{
  "nbformat": 4,
  "nbformat_minor": 0,
  "metadata": {
    "colab": {
      "provenance": [],
      "gpuType": "A100",
      "include_colab_link": true
    },
    "kernelspec": {
      "name": "python3",
      "display_name": "Python 3"
    },
    "language_info": {
      "name": "python"
    },
    "widgets": {
      "application/vnd.jupyter.widget-state+json": {
        "4160024205f64d97b0fc0169df8187af": {
          "model_module": "@jupyter-widgets/controls",
          "model_name": "HBoxModel",
          "model_module_version": "1.5.0",
          "state": {
            "_dom_classes": [],
            "_model_module": "@jupyter-widgets/controls",
            "_model_module_version": "1.5.0",
            "_model_name": "HBoxModel",
            "_view_count": null,
            "_view_module": "@jupyter-widgets/controls",
            "_view_module_version": "1.5.0",
            "_view_name": "HBoxView",
            "box_style": "",
            "children": [
              "IPY_MODEL_789c2e5260b24124b17b0960c51d506d",
              "IPY_MODEL_f880aae954c141418773bf5ddd4eadc7",
              "IPY_MODEL_e3001c218212406d8f5d2777bb0fd40e"
            ],
            "layout": "IPY_MODEL_40a79b66d5ad40f5ac5cde49e39723c6"
          }
        },
        "789c2e5260b24124b17b0960c51d506d": {
          "model_module": "@jupyter-widgets/controls",
          "model_name": "HTMLModel",
          "model_module_version": "1.5.0",
          "state": {
            "_dom_classes": [],
            "_model_module": "@jupyter-widgets/controls",
            "_model_module_version": "1.5.0",
            "_model_name": "HTMLModel",
            "_view_count": null,
            "_view_module": "@jupyter-widgets/controls",
            "_view_module_version": "1.5.0",
            "_view_name": "HTMLView",
            "description": "",
            "description_tooltip": null,
            "layout": "IPY_MODEL_a5a2d453463d482d9f18156d8fd8c25a",
            "placeholder": "​",
            "style": "IPY_MODEL_5e0cf532862346589a4ad447b9f01173",
            "value": "100%"
          }
        },
        "f880aae954c141418773bf5ddd4eadc7": {
          "model_module": "@jupyter-widgets/controls",
          "model_name": "FloatProgressModel",
          "model_module_version": "1.5.0",
          "state": {
            "_dom_classes": [],
            "_model_module": "@jupyter-widgets/controls",
            "_model_module_version": "1.5.0",
            "_model_name": "FloatProgressModel",
            "_view_count": null,
            "_view_module": "@jupyter-widgets/controls",
            "_view_module_version": "1.5.0",
            "_view_name": "ProgressView",
            "bar_style": "success",
            "description": "",
            "description_tooltip": null,
            "layout": "IPY_MODEL_131aaec2409f48b5b0ce126f0740d662",
            "max": 2442,
            "min": 0,
            "orientation": "horizontal",
            "style": "IPY_MODEL_575416fe3f884d0791e1e340e5620357",
            "value": 2442
          }
        },
        "e3001c218212406d8f5d2777bb0fd40e": {
          "model_module": "@jupyter-widgets/controls",
          "model_name": "HTMLModel",
          "model_module_version": "1.5.0",
          "state": {
            "_dom_classes": [],
            "_model_module": "@jupyter-widgets/controls",
            "_model_module_version": "1.5.0",
            "_model_name": "HTMLModel",
            "_view_count": null,
            "_view_module": "@jupyter-widgets/controls",
            "_view_module_version": "1.5.0",
            "_view_name": "HTMLView",
            "description": "",
            "description_tooltip": null,
            "layout": "IPY_MODEL_cc96669b7ad34441978c7bba1c2e13aa",
            "placeholder": "​",
            "style": "IPY_MODEL_a01f2262454c4e3c8e905e28c98f98e5",
            "value": " 2442/2442 [00:00&lt;00:00, 45875.11it/s]"
          }
        },
        "40a79b66d5ad40f5ac5cde49e39723c6": {
          "model_module": "@jupyter-widgets/base",
          "model_name": "LayoutModel",
          "model_module_version": "1.2.0",
          "state": {
            "_model_module": "@jupyter-widgets/base",
            "_model_module_version": "1.2.0",
            "_model_name": "LayoutModel",
            "_view_count": null,
            "_view_module": "@jupyter-widgets/base",
            "_view_module_version": "1.2.0",
            "_view_name": "LayoutView",
            "align_content": null,
            "align_items": null,
            "align_self": null,
            "border": null,
            "bottom": null,
            "display": null,
            "flex": null,
            "flex_flow": null,
            "grid_area": null,
            "grid_auto_columns": null,
            "grid_auto_flow": null,
            "grid_auto_rows": null,
            "grid_column": null,
            "grid_gap": null,
            "grid_row": null,
            "grid_template_areas": null,
            "grid_template_columns": null,
            "grid_template_rows": null,
            "height": null,
            "justify_content": null,
            "justify_items": null,
            "left": null,
            "margin": null,
            "max_height": null,
            "max_width": null,
            "min_height": null,
            "min_width": null,
            "object_fit": null,
            "object_position": null,
            "order": null,
            "overflow": null,
            "overflow_x": null,
            "overflow_y": null,
            "padding": null,
            "right": null,
            "top": null,
            "visibility": null,
            "width": null
          }
        },
        "a5a2d453463d482d9f18156d8fd8c25a": {
          "model_module": "@jupyter-widgets/base",
          "model_name": "LayoutModel",
          "model_module_version": "1.2.0",
          "state": {
            "_model_module": "@jupyter-widgets/base",
            "_model_module_version": "1.2.0",
            "_model_name": "LayoutModel",
            "_view_count": null,
            "_view_module": "@jupyter-widgets/base",
            "_view_module_version": "1.2.0",
            "_view_name": "LayoutView",
            "align_content": null,
            "align_items": null,
            "align_self": null,
            "border": null,
            "bottom": null,
            "display": null,
            "flex": null,
            "flex_flow": null,
            "grid_area": null,
            "grid_auto_columns": null,
            "grid_auto_flow": null,
            "grid_auto_rows": null,
            "grid_column": null,
            "grid_gap": null,
            "grid_row": null,
            "grid_template_areas": null,
            "grid_template_columns": null,
            "grid_template_rows": null,
            "height": null,
            "justify_content": null,
            "justify_items": null,
            "left": null,
            "margin": null,
            "max_height": null,
            "max_width": null,
            "min_height": null,
            "min_width": null,
            "object_fit": null,
            "object_position": null,
            "order": null,
            "overflow": null,
            "overflow_x": null,
            "overflow_y": null,
            "padding": null,
            "right": null,
            "top": null,
            "visibility": null,
            "width": null
          }
        },
        "5e0cf532862346589a4ad447b9f01173": {
          "model_module": "@jupyter-widgets/controls",
          "model_name": "DescriptionStyleModel",
          "model_module_version": "1.5.0",
          "state": {
            "_model_module": "@jupyter-widgets/controls",
            "_model_module_version": "1.5.0",
            "_model_name": "DescriptionStyleModel",
            "_view_count": null,
            "_view_module": "@jupyter-widgets/base",
            "_view_module_version": "1.2.0",
            "_view_name": "StyleView",
            "description_width": ""
          }
        },
        "131aaec2409f48b5b0ce126f0740d662": {
          "model_module": "@jupyter-widgets/base",
          "model_name": "LayoutModel",
          "model_module_version": "1.2.0",
          "state": {
            "_model_module": "@jupyter-widgets/base",
            "_model_module_version": "1.2.0",
            "_model_name": "LayoutModel",
            "_view_count": null,
            "_view_module": "@jupyter-widgets/base",
            "_view_module_version": "1.2.0",
            "_view_name": "LayoutView",
            "align_content": null,
            "align_items": null,
            "align_self": null,
            "border": null,
            "bottom": null,
            "display": null,
            "flex": null,
            "flex_flow": null,
            "grid_area": null,
            "grid_auto_columns": null,
            "grid_auto_flow": null,
            "grid_auto_rows": null,
            "grid_column": null,
            "grid_gap": null,
            "grid_row": null,
            "grid_template_areas": null,
            "grid_template_columns": null,
            "grid_template_rows": null,
            "height": null,
            "justify_content": null,
            "justify_items": null,
            "left": null,
            "margin": null,
            "max_height": null,
            "max_width": null,
            "min_height": null,
            "min_width": null,
            "object_fit": null,
            "object_position": null,
            "order": null,
            "overflow": null,
            "overflow_x": null,
            "overflow_y": null,
            "padding": null,
            "right": null,
            "top": null,
            "visibility": null,
            "width": null
          }
        },
        "575416fe3f884d0791e1e340e5620357": {
          "model_module": "@jupyter-widgets/controls",
          "model_name": "ProgressStyleModel",
          "model_module_version": "1.5.0",
          "state": {
            "_model_module": "@jupyter-widgets/controls",
            "_model_module_version": "1.5.0",
            "_model_name": "ProgressStyleModel",
            "_view_count": null,
            "_view_module": "@jupyter-widgets/base",
            "_view_module_version": "1.2.0",
            "_view_name": "StyleView",
            "bar_color": null,
            "description_width": ""
          }
        },
        "cc96669b7ad34441978c7bba1c2e13aa": {
          "model_module": "@jupyter-widgets/base",
          "model_name": "LayoutModel",
          "model_module_version": "1.2.0",
          "state": {
            "_model_module": "@jupyter-widgets/base",
            "_model_module_version": "1.2.0",
            "_model_name": "LayoutModel",
            "_view_count": null,
            "_view_module": "@jupyter-widgets/base",
            "_view_module_version": "1.2.0",
            "_view_name": "LayoutView",
            "align_content": null,
            "align_items": null,
            "align_self": null,
            "border": null,
            "bottom": null,
            "display": null,
            "flex": null,
            "flex_flow": null,
            "grid_area": null,
            "grid_auto_columns": null,
            "grid_auto_flow": null,
            "grid_auto_rows": null,
            "grid_column": null,
            "grid_gap": null,
            "grid_row": null,
            "grid_template_areas": null,
            "grid_template_columns": null,
            "grid_template_rows": null,
            "height": null,
            "justify_content": null,
            "justify_items": null,
            "left": null,
            "margin": null,
            "max_height": null,
            "max_width": null,
            "min_height": null,
            "min_width": null,
            "object_fit": null,
            "object_position": null,
            "order": null,
            "overflow": null,
            "overflow_x": null,
            "overflow_y": null,
            "padding": null,
            "right": null,
            "top": null,
            "visibility": null,
            "width": null
          }
        },
        "a01f2262454c4e3c8e905e28c98f98e5": {
          "model_module": "@jupyter-widgets/controls",
          "model_name": "DescriptionStyleModel",
          "model_module_version": "1.5.0",
          "state": {
            "_model_module": "@jupyter-widgets/controls",
            "_model_module_version": "1.5.0",
            "_model_name": "DescriptionStyleModel",
            "_view_count": null,
            "_view_module": "@jupyter-widgets/base",
            "_view_module_version": "1.2.0",
            "_view_name": "StyleView",
            "description_width": ""
          }
        },
        "07c712f9d9ca482c98491bc88f27cea6": {
          "model_module": "@jupyter-widgets/controls",
          "model_name": "HBoxModel",
          "model_module_version": "1.5.0",
          "state": {
            "_dom_classes": [],
            "_model_module": "@jupyter-widgets/controls",
            "_model_module_version": "1.5.0",
            "_model_name": "HBoxModel",
            "_view_count": null,
            "_view_module": "@jupyter-widgets/controls",
            "_view_module_version": "1.5.0",
            "_view_name": "HBoxView",
            "box_style": "",
            "children": [
              "IPY_MODEL_e9686aff2d2b4d67b9a3cfa8026024f5",
              "IPY_MODEL_1275a035b9044f208e1994664a2cf016",
              "IPY_MODEL_7f9a20a4f1b441668d845573914bece0"
            ],
            "layout": "IPY_MODEL_593124caba8c46d39f6850d805306224"
          }
        },
        "e9686aff2d2b4d67b9a3cfa8026024f5": {
          "model_module": "@jupyter-widgets/controls",
          "model_name": "HTMLModel",
          "model_module_version": "1.5.0",
          "state": {
            "_dom_classes": [],
            "_model_module": "@jupyter-widgets/controls",
            "_model_module_version": "1.5.0",
            "_model_name": "HTMLModel",
            "_view_count": null,
            "_view_module": "@jupyter-widgets/controls",
            "_view_module_version": "1.5.0",
            "_view_name": "HTMLView",
            "description": "",
            "description_tooltip": null,
            "layout": "IPY_MODEL_8c4a5a546f1f4a3ab454cb05dcbc6c46",
            "placeholder": "​",
            "style": "IPY_MODEL_0ef114bc0bce40caa4c9449467fd2c91",
            "value": "100%"
          }
        },
        "1275a035b9044f208e1994664a2cf016": {
          "model_module": "@jupyter-widgets/controls",
          "model_name": "FloatProgressModel",
          "model_module_version": "1.5.0",
          "state": {
            "_dom_classes": [],
            "_model_module": "@jupyter-widgets/controls",
            "_model_module_version": "1.5.0",
            "_model_name": "FloatProgressModel",
            "_view_count": null,
            "_view_module": "@jupyter-widgets/controls",
            "_view_module_version": "1.5.0",
            "_view_name": "ProgressView",
            "bar_style": "success",
            "description": "",
            "description_tooltip": null,
            "layout": "IPY_MODEL_472561ade136451282a48cca41cf1e7a",
            "max": 2442,
            "min": 0,
            "orientation": "horizontal",
            "style": "IPY_MODEL_b79dbcf237e543b8bbcd1140f2fdbbfc",
            "value": 2442
          }
        },
        "7f9a20a4f1b441668d845573914bece0": {
          "model_module": "@jupyter-widgets/controls",
          "model_name": "HTMLModel",
          "model_module_version": "1.5.0",
          "state": {
            "_dom_classes": [],
            "_model_module": "@jupyter-widgets/controls",
            "_model_module_version": "1.5.0",
            "_model_name": "HTMLModel",
            "_view_count": null,
            "_view_module": "@jupyter-widgets/controls",
            "_view_module_version": "1.5.0",
            "_view_name": "HTMLView",
            "description": "",
            "description_tooltip": null,
            "layout": "IPY_MODEL_e8cde041454a4d839018ea2c3c8cd388",
            "placeholder": "​",
            "style": "IPY_MODEL_43465b6a548047b8b487a36e09083fb4",
            "value": " 2442/2442 [00:00&lt;00:00, 12497.85it/s]"
          }
        },
        "593124caba8c46d39f6850d805306224": {
          "model_module": "@jupyter-widgets/base",
          "model_name": "LayoutModel",
          "model_module_version": "1.2.0",
          "state": {
            "_model_module": "@jupyter-widgets/base",
            "_model_module_version": "1.2.0",
            "_model_name": "LayoutModel",
            "_view_count": null,
            "_view_module": "@jupyter-widgets/base",
            "_view_module_version": "1.2.0",
            "_view_name": "LayoutView",
            "align_content": null,
            "align_items": null,
            "align_self": null,
            "border": null,
            "bottom": null,
            "display": null,
            "flex": null,
            "flex_flow": null,
            "grid_area": null,
            "grid_auto_columns": null,
            "grid_auto_flow": null,
            "grid_auto_rows": null,
            "grid_column": null,
            "grid_gap": null,
            "grid_row": null,
            "grid_template_areas": null,
            "grid_template_columns": null,
            "grid_template_rows": null,
            "height": null,
            "justify_content": null,
            "justify_items": null,
            "left": null,
            "margin": null,
            "max_height": null,
            "max_width": null,
            "min_height": null,
            "min_width": null,
            "object_fit": null,
            "object_position": null,
            "order": null,
            "overflow": null,
            "overflow_x": null,
            "overflow_y": null,
            "padding": null,
            "right": null,
            "top": null,
            "visibility": null,
            "width": null
          }
        },
        "8c4a5a546f1f4a3ab454cb05dcbc6c46": {
          "model_module": "@jupyter-widgets/base",
          "model_name": "LayoutModel",
          "model_module_version": "1.2.0",
          "state": {
            "_model_module": "@jupyter-widgets/base",
            "_model_module_version": "1.2.0",
            "_model_name": "LayoutModel",
            "_view_count": null,
            "_view_module": "@jupyter-widgets/base",
            "_view_module_version": "1.2.0",
            "_view_name": "LayoutView",
            "align_content": null,
            "align_items": null,
            "align_self": null,
            "border": null,
            "bottom": null,
            "display": null,
            "flex": null,
            "flex_flow": null,
            "grid_area": null,
            "grid_auto_columns": null,
            "grid_auto_flow": null,
            "grid_auto_rows": null,
            "grid_column": null,
            "grid_gap": null,
            "grid_row": null,
            "grid_template_areas": null,
            "grid_template_columns": null,
            "grid_template_rows": null,
            "height": null,
            "justify_content": null,
            "justify_items": null,
            "left": null,
            "margin": null,
            "max_height": null,
            "max_width": null,
            "min_height": null,
            "min_width": null,
            "object_fit": null,
            "object_position": null,
            "order": null,
            "overflow": null,
            "overflow_x": null,
            "overflow_y": null,
            "padding": null,
            "right": null,
            "top": null,
            "visibility": null,
            "width": null
          }
        },
        "0ef114bc0bce40caa4c9449467fd2c91": {
          "model_module": "@jupyter-widgets/controls",
          "model_name": "DescriptionStyleModel",
          "model_module_version": "1.5.0",
          "state": {
            "_model_module": "@jupyter-widgets/controls",
            "_model_module_version": "1.5.0",
            "_model_name": "DescriptionStyleModel",
            "_view_count": null,
            "_view_module": "@jupyter-widgets/base",
            "_view_module_version": "1.2.0",
            "_view_name": "StyleView",
            "description_width": ""
          }
        },
        "472561ade136451282a48cca41cf1e7a": {
          "model_module": "@jupyter-widgets/base",
          "model_name": "LayoutModel",
          "model_module_version": "1.2.0",
          "state": {
            "_model_module": "@jupyter-widgets/base",
            "_model_module_version": "1.2.0",
            "_model_name": "LayoutModel",
            "_view_count": null,
            "_view_module": "@jupyter-widgets/base",
            "_view_module_version": "1.2.0",
            "_view_name": "LayoutView",
            "align_content": null,
            "align_items": null,
            "align_self": null,
            "border": null,
            "bottom": null,
            "display": null,
            "flex": null,
            "flex_flow": null,
            "grid_area": null,
            "grid_auto_columns": null,
            "grid_auto_flow": null,
            "grid_auto_rows": null,
            "grid_column": null,
            "grid_gap": null,
            "grid_row": null,
            "grid_template_areas": null,
            "grid_template_columns": null,
            "grid_template_rows": null,
            "height": null,
            "justify_content": null,
            "justify_items": null,
            "left": null,
            "margin": null,
            "max_height": null,
            "max_width": null,
            "min_height": null,
            "min_width": null,
            "object_fit": null,
            "object_position": null,
            "order": null,
            "overflow": null,
            "overflow_x": null,
            "overflow_y": null,
            "padding": null,
            "right": null,
            "top": null,
            "visibility": null,
            "width": null
          }
        },
        "b79dbcf237e543b8bbcd1140f2fdbbfc": {
          "model_module": "@jupyter-widgets/controls",
          "model_name": "ProgressStyleModel",
          "model_module_version": "1.5.0",
          "state": {
            "_model_module": "@jupyter-widgets/controls",
            "_model_module_version": "1.5.0",
            "_model_name": "ProgressStyleModel",
            "_view_count": null,
            "_view_module": "@jupyter-widgets/base",
            "_view_module_version": "1.2.0",
            "_view_name": "StyleView",
            "bar_color": null,
            "description_width": ""
          }
        },
        "e8cde041454a4d839018ea2c3c8cd388": {
          "model_module": "@jupyter-widgets/base",
          "model_name": "LayoutModel",
          "model_module_version": "1.2.0",
          "state": {
            "_model_module": "@jupyter-widgets/base",
            "_model_module_version": "1.2.0",
            "_model_name": "LayoutModel",
            "_view_count": null,
            "_view_module": "@jupyter-widgets/base",
            "_view_module_version": "1.2.0",
            "_view_name": "LayoutView",
            "align_content": null,
            "align_items": null,
            "align_self": null,
            "border": null,
            "bottom": null,
            "display": null,
            "flex": null,
            "flex_flow": null,
            "grid_area": null,
            "grid_auto_columns": null,
            "grid_auto_flow": null,
            "grid_auto_rows": null,
            "grid_column": null,
            "grid_gap": null,
            "grid_row": null,
            "grid_template_areas": null,
            "grid_template_columns": null,
            "grid_template_rows": null,
            "height": null,
            "justify_content": null,
            "justify_items": null,
            "left": null,
            "margin": null,
            "max_height": null,
            "max_width": null,
            "min_height": null,
            "min_width": null,
            "object_fit": null,
            "object_position": null,
            "order": null,
            "overflow": null,
            "overflow_x": null,
            "overflow_y": null,
            "padding": null,
            "right": null,
            "top": null,
            "visibility": null,
            "width": null
          }
        },
        "43465b6a548047b8b487a36e09083fb4": {
          "model_module": "@jupyter-widgets/controls",
          "model_name": "DescriptionStyleModel",
          "model_module_version": "1.5.0",
          "state": {
            "_model_module": "@jupyter-widgets/controls",
            "_model_module_version": "1.5.0",
            "_model_name": "DescriptionStyleModel",
            "_view_count": null,
            "_view_module": "@jupyter-widgets/base",
            "_view_module_version": "1.2.0",
            "_view_name": "StyleView",
            "description_width": ""
          }
        }
      }
    },
    "accelerator": "GPU"
  },
  "cells": [
    {
      "cell_type": "markdown",
      "metadata": {
        "id": "view-in-github",
        "colab_type": "text"
      },
      "source": [
        "<a href=\"https://colab.research.google.com/github/gabriel-ab/ufrpe-answer-analyser/blob/main/notebooks/open_question_scoring.ipynb\" target=\"_parent\"><img src=\"https://colab.research.google.com/assets/colab-badge.svg\" alt=\"Open In Colab\"/></a>"
      ]
    },
    {
      "cell_type": "code",
      "source": [
        "%%capture\n",
        "from google.colab import drive\n",
        "drive.mount('/content/drive');"
      ],
      "metadata": {
        "id": "cFehN2z0IXYN"
      },
      "execution_count": 1,
      "outputs": []
    },
    {
      "cell_type": "code",
      "execution_count": 2,
      "metadata": {
        "id": "iHbpTCfUGNrc"
      },
      "outputs": [],
      "source": [
        "# Parameters\n",
        "DATASET = '/content/drive/MyDrive/Research/Projeto Correção de questão/Data/TexasDataset/EXCEL/texas_dataset.xlsx'\n",
        "GLOVE_S50 = \"/content/drive/MyDrive/Colab Notebooks/Embeddings/GloVe/glove.6B.50d.txt\"\n",
        "FASTTEXT_S50 = \"/content/drive/MyDrive/Colab Notebooks/Embeddings/FastText/cc.en.50.txt\"\n",
        "\n",
        "GET_FASTTEXT_EMB = False\n",
        "GET_WORD2VEC_EMB = True\n",
        "\n",
        "RANDOM_STATE = 42\n",
        "TEST_SIZE = 0.20\n",
        "VAL_SIZE = 0.20\n",
        "EMBEDDING_DIM = 50\n",
        "LSTM_UNITS = 128\n",
        "BATCH_SIZE = 128\n",
        "EPOCHS = 11\n",
        "MAX_LENGTH = 30\n",
        "MAX_TOKENS = 20000"
      ]
    },
    {
      "cell_type": "code",
      "source": [
        "%%capture\n",
        "!pip install -U spacy fasttext"
      ],
      "metadata": {
        "id": "L8FAnxz5GbEs"
      },
      "execution_count": 3,
      "outputs": []
    },
    {
      "cell_type": "code",
      "source": [
        "import random\n",
        "import re\n",
        "import numpy as np\n",
        "import tensorflow as tf\n",
        "import pandas as pd\n",
        "import nltk\n",
        "import tqdm\n",
        "import keras\n",
        "import fasttext\n",
        "import fasttext.util\n",
        "import joblib\n",
        "import tensorflow as tf\n",
        "from tensorflow import keras\n",
        "from tqdm.notebook import tqdm_notebook\n",
        "from sklearn.model_selection import train_test_split\n",
        "from sklearn.metrics import cohen_kappa_score, classification_report\n",
        "from gensim.test.utils import common_texts\n",
        "from gensim.models import Word2Vec, FastText\n",
        "from keras.preprocessing.text import Tokenizer\n",
        "from keras.preprocessing.sequence import pad_sequences"
      ],
      "metadata": {
        "id": "VeHakVDMGVGW"
      },
      "execution_count": 4,
      "outputs": []
    },
    {
      "cell_type": "code",
      "source": [
        "%%capture\n",
        "# Get FastText embedding for english language and reduce its dimension to 50\n",
        "\n",
        "if GET_FASTTEXT_EMB:\n",
        "  fasttext.util.download_model('en', if_exists='ignore')\n",
        "  ft = fasttext.load_model(\"cc.en.300.bin\")\n",
        "  print(f\"Current dimension: {ft.get_dimension()}\")\n",
        "  print(\"Reducing dimension...\")\n",
        "  fasttext.util.reduce_model(ft, 50)\n",
        "  print(\"Done!\")\n",
        "  print(f\"New dimension: {ft.get_dimension()}\")\n",
        "  ft.save_model(\"/content/drive/MyDrive/Embeddings/FastText/cc.en.50.bin\")\n",
        "  model = FastText.load_fasttext_format(\"/content/drive/MyDrive/Embeddings/FastText/cc.en.50.bin\")\n",
        "  model.wv.save_word2vec_format(\"/content/drive/MyDrive/Embeddings/FastText/cc.en.50.txt\", binary=False)"
      ],
      "metadata": {
        "id": "PDSpI1cUZTM4"
      },
      "execution_count": 5,
      "outputs": []
    },
    {
      "cell_type": "code",
      "source": [
        "random.seed(RANDOM_STATE)\n",
        "np.random.seed(RANDOM_STATE)\n",
        "tf.random.set_seed(RANDOM_STATE)"
      ],
      "metadata": {
        "id": "fsw-u24pGZAU"
      },
      "execution_count": 6,
      "outputs": []
    },
    {
      "cell_type": "code",
      "source": [
        "tqdm_notebook.pandas()"
      ],
      "metadata": {
        "id": "3zZ8kAtOKOLi"
      },
      "execution_count": 7,
      "outputs": []
    },
    {
      "cell_type": "markdown",
      "source": [
        "# Preprocessing"
      ],
      "metadata": {
        "id": "vWVsBG3JItGx"
      }
    },
    {
      "cell_type": "code",
      "source": [
        "columns_dict = {\n",
        "  \"Topic\": \"topic\",\n",
        "  \"Human Evaluation\": \"human_evaluation\",\n",
        "  \"Round_score\": \"human_evaluation\",\n",
        "  \"Question\": \"question\",\n",
        "  \"Student Answer\": \"answer\",\n",
        "  \"Question_ID\": \"question_id\",\n",
        "  \"Instructor answers\": \"intructor_answers\",\n",
        "  \"Score\": \"score\"\n",
        "}\n",
        "dataset = pd.read_excel(DATASET)\n",
        "dataset.rename(columns=columns_dict, inplace=True)\n",
        "dataset.head()"
      ],
      "metadata": {
        "colab": {
          "base_uri": "https://localhost:8080/",
          "height": 293
        },
        "id": "5t55BQ5PIoZp",
        "outputId": "859544c2-a9dd-4b9a-fcfa-93cd0a61935a"
      },
      "execution_count": 8,
      "outputs": [
        {
          "output_type": "execute_result",
          "data": {
            "text/plain": [
              "   ID question_id                                           question  \\\n",
              "0   1  2023-01-01   What is the role of a prototype program in pr...   \n",
              "1   2  2023-01-01   What is the role of a prototype program in pr...   \n",
              "2   3  2023-01-01   What is the role of a prototype program in pr...   \n",
              "3   4  2023-01-01   What is the role of a prototype program in pr...   \n",
              "4   5  2023-01-01   What is the role of a prototype program in pr...   \n",
              "\n",
              "                                   intructor_answers  \\\n",
              "0   To simulate the behaviour of portions of the ...   \n",
              "1   To simulate the behaviour of portions of the ...   \n",
              "2   To simulate the behaviour of portions of the ...   \n",
              "3   To simulate the behaviour of portions of the ...   \n",
              "4   To simulate the behaviour of portions of the ...   \n",
              "\n",
              "                                              answer  score  human_evaluation  \n",
              "0   High risk problems are address in the prototy...    3.5                 4  \n",
              "1   To simulate portions of the desired final pro...    5.0                 5  \n",
              "2   A prototype program simulates the behaviors o...    4.0                 4  \n",
              "3   Defined in the Specification phase a prototyp...    5.0                 5  \n",
              "4   It is used to let the users have a first idea...    3.0                 3  "
            ],
            "text/html": [
              "\n",
              "  <div id=\"df-227445da-9716-4393-84be-776ede56d614\" class=\"colab-df-container\">\n",
              "    <div>\n",
              "<style scoped>\n",
              "    .dataframe tbody tr th:only-of-type {\n",
              "        vertical-align: middle;\n",
              "    }\n",
              "\n",
              "    .dataframe tbody tr th {\n",
              "        vertical-align: top;\n",
              "    }\n",
              "\n",
              "    .dataframe thead th {\n",
              "        text-align: right;\n",
              "    }\n",
              "</style>\n",
              "<table border=\"1\" class=\"dataframe\">\n",
              "  <thead>\n",
              "    <tr style=\"text-align: right;\">\n",
              "      <th></th>\n",
              "      <th>ID</th>\n",
              "      <th>question_id</th>\n",
              "      <th>question</th>\n",
              "      <th>intructor_answers</th>\n",
              "      <th>answer</th>\n",
              "      <th>score</th>\n",
              "      <th>human_evaluation</th>\n",
              "    </tr>\n",
              "  </thead>\n",
              "  <tbody>\n",
              "    <tr>\n",
              "      <th>0</th>\n",
              "      <td>1</td>\n",
              "      <td>2023-01-01</td>\n",
              "      <td>What is the role of a prototype program in pr...</td>\n",
              "      <td>To simulate the behaviour of portions of the ...</td>\n",
              "      <td>High risk problems are address in the prototy...</td>\n",
              "      <td>3.5</td>\n",
              "      <td>4</td>\n",
              "    </tr>\n",
              "    <tr>\n",
              "      <th>1</th>\n",
              "      <td>2</td>\n",
              "      <td>2023-01-01</td>\n",
              "      <td>What is the role of a prototype program in pr...</td>\n",
              "      <td>To simulate the behaviour of portions of the ...</td>\n",
              "      <td>To simulate portions of the desired final pro...</td>\n",
              "      <td>5.0</td>\n",
              "      <td>5</td>\n",
              "    </tr>\n",
              "    <tr>\n",
              "      <th>2</th>\n",
              "      <td>3</td>\n",
              "      <td>2023-01-01</td>\n",
              "      <td>What is the role of a prototype program in pr...</td>\n",
              "      <td>To simulate the behaviour of portions of the ...</td>\n",
              "      <td>A prototype program simulates the behaviors o...</td>\n",
              "      <td>4.0</td>\n",
              "      <td>4</td>\n",
              "    </tr>\n",
              "    <tr>\n",
              "      <th>3</th>\n",
              "      <td>4</td>\n",
              "      <td>2023-01-01</td>\n",
              "      <td>What is the role of a prototype program in pr...</td>\n",
              "      <td>To simulate the behaviour of portions of the ...</td>\n",
              "      <td>Defined in the Specification phase a prototyp...</td>\n",
              "      <td>5.0</td>\n",
              "      <td>5</td>\n",
              "    </tr>\n",
              "    <tr>\n",
              "      <th>4</th>\n",
              "      <td>5</td>\n",
              "      <td>2023-01-01</td>\n",
              "      <td>What is the role of a prototype program in pr...</td>\n",
              "      <td>To simulate the behaviour of portions of the ...</td>\n",
              "      <td>It is used to let the users have a first idea...</td>\n",
              "      <td>3.0</td>\n",
              "      <td>3</td>\n",
              "    </tr>\n",
              "  </tbody>\n",
              "</table>\n",
              "</div>\n",
              "    <div class=\"colab-df-buttons\">\n",
              "\n",
              "  <div class=\"colab-df-container\">\n",
              "    <button class=\"colab-df-convert\" onclick=\"convertToInteractive('df-227445da-9716-4393-84be-776ede56d614')\"\n",
              "            title=\"Convert this dataframe to an interactive table.\"\n",
              "            style=\"display:none;\">\n",
              "\n",
              "  <svg xmlns=\"http://www.w3.org/2000/svg\" height=\"24px\" viewBox=\"0 -960 960 960\">\n",
              "    <path d=\"M120-120v-720h720v720H120Zm60-500h600v-160H180v160Zm220 220h160v-160H400v160Zm0 220h160v-160H400v160ZM180-400h160v-160H180v160Zm440 0h160v-160H620v160ZM180-180h160v-160H180v160Zm440 0h160v-160H620v160Z\"/>\n",
              "  </svg>\n",
              "    </button>\n",
              "\n",
              "  <style>\n",
              "    .colab-df-container {\n",
              "      display:flex;\n",
              "      gap: 12px;\n",
              "    }\n",
              "\n",
              "    .colab-df-convert {\n",
              "      background-color: #E8F0FE;\n",
              "      border: none;\n",
              "      border-radius: 50%;\n",
              "      cursor: pointer;\n",
              "      display: none;\n",
              "      fill: #1967D2;\n",
              "      height: 32px;\n",
              "      padding: 0 0 0 0;\n",
              "      width: 32px;\n",
              "    }\n",
              "\n",
              "    .colab-df-convert:hover {\n",
              "      background-color: #E2EBFA;\n",
              "      box-shadow: 0px 1px 2px rgba(60, 64, 67, 0.3), 0px 1px 3px 1px rgba(60, 64, 67, 0.15);\n",
              "      fill: #174EA6;\n",
              "    }\n",
              "\n",
              "    .colab-df-buttons div {\n",
              "      margin-bottom: 4px;\n",
              "    }\n",
              "\n",
              "    [theme=dark] .colab-df-convert {\n",
              "      background-color: #3B4455;\n",
              "      fill: #D2E3FC;\n",
              "    }\n",
              "\n",
              "    [theme=dark] .colab-df-convert:hover {\n",
              "      background-color: #434B5C;\n",
              "      box-shadow: 0px 1px 3px 1px rgba(0, 0, 0, 0.15);\n",
              "      filter: drop-shadow(0px 1px 2px rgba(0, 0, 0, 0.3));\n",
              "      fill: #FFFFFF;\n",
              "    }\n",
              "  </style>\n",
              "\n",
              "    <script>\n",
              "      const buttonEl =\n",
              "        document.querySelector('#df-227445da-9716-4393-84be-776ede56d614 button.colab-df-convert');\n",
              "      buttonEl.style.display =\n",
              "        google.colab.kernel.accessAllowed ? 'block' : 'none';\n",
              "\n",
              "      async function convertToInteractive(key) {\n",
              "        const element = document.querySelector('#df-227445da-9716-4393-84be-776ede56d614');\n",
              "        const dataTable =\n",
              "          await google.colab.kernel.invokeFunction('convertToInteractive',\n",
              "                                                    [key], {});\n",
              "        if (!dataTable) return;\n",
              "\n",
              "        const docLinkHtml = 'Like what you see? Visit the ' +\n",
              "          '<a target=\"_blank\" href=https://colab.research.google.com/notebooks/data_table.ipynb>data table notebook</a>'\n",
              "          + ' to learn more about interactive tables.';\n",
              "        element.innerHTML = '';\n",
              "        dataTable['output_type'] = 'display_data';\n",
              "        await google.colab.output.renderOutput(dataTable, element);\n",
              "        const docLink = document.createElement('div');\n",
              "        docLink.innerHTML = docLinkHtml;\n",
              "        element.appendChild(docLink);\n",
              "      }\n",
              "    </script>\n",
              "  </div>\n",
              "\n",
              "\n",
              "<div id=\"df-4bfaf071-96a6-4966-acf9-5edf59cc9bf3\">\n",
              "  <button class=\"colab-df-quickchart\" onclick=\"quickchart('df-4bfaf071-96a6-4966-acf9-5edf59cc9bf3')\"\n",
              "            title=\"Suggest charts\"\n",
              "            style=\"display:none;\">\n",
              "\n",
              "<svg xmlns=\"http://www.w3.org/2000/svg\" height=\"24px\"viewBox=\"0 0 24 24\"\n",
              "     width=\"24px\">\n",
              "    <g>\n",
              "        <path d=\"M19 3H5c-1.1 0-2 .9-2 2v14c0 1.1.9 2 2 2h14c1.1 0 2-.9 2-2V5c0-1.1-.9-2-2-2zM9 17H7v-7h2v7zm4 0h-2V7h2v10zm4 0h-2v-4h2v4z\"/>\n",
              "    </g>\n",
              "</svg>\n",
              "  </button>\n",
              "\n",
              "<style>\n",
              "  .colab-df-quickchart {\n",
              "      --bg-color: #E8F0FE;\n",
              "      --fill-color: #1967D2;\n",
              "      --hover-bg-color: #E2EBFA;\n",
              "      --hover-fill-color: #174EA6;\n",
              "      --disabled-fill-color: #AAA;\n",
              "      --disabled-bg-color: #DDD;\n",
              "  }\n",
              "\n",
              "  [theme=dark] .colab-df-quickchart {\n",
              "      --bg-color: #3B4455;\n",
              "      --fill-color: #D2E3FC;\n",
              "      --hover-bg-color: #434B5C;\n",
              "      --hover-fill-color: #FFFFFF;\n",
              "      --disabled-bg-color: #3B4455;\n",
              "      --disabled-fill-color: #666;\n",
              "  }\n",
              "\n",
              "  .colab-df-quickchart {\n",
              "    background-color: var(--bg-color);\n",
              "    border: none;\n",
              "    border-radius: 50%;\n",
              "    cursor: pointer;\n",
              "    display: none;\n",
              "    fill: var(--fill-color);\n",
              "    height: 32px;\n",
              "    padding: 0;\n",
              "    width: 32px;\n",
              "  }\n",
              "\n",
              "  .colab-df-quickchart:hover {\n",
              "    background-color: var(--hover-bg-color);\n",
              "    box-shadow: 0 1px 2px rgba(60, 64, 67, 0.3), 0 1px 3px 1px rgba(60, 64, 67, 0.15);\n",
              "    fill: var(--button-hover-fill-color);\n",
              "  }\n",
              "\n",
              "  .colab-df-quickchart-complete:disabled,\n",
              "  .colab-df-quickchart-complete:disabled:hover {\n",
              "    background-color: var(--disabled-bg-color);\n",
              "    fill: var(--disabled-fill-color);\n",
              "    box-shadow: none;\n",
              "  }\n",
              "\n",
              "  .colab-df-spinner {\n",
              "    border: 2px solid var(--fill-color);\n",
              "    border-color: transparent;\n",
              "    border-bottom-color: var(--fill-color);\n",
              "    animation:\n",
              "      spin 1s steps(1) infinite;\n",
              "  }\n",
              "\n",
              "  @keyframes spin {\n",
              "    0% {\n",
              "      border-color: transparent;\n",
              "      border-bottom-color: var(--fill-color);\n",
              "      border-left-color: var(--fill-color);\n",
              "    }\n",
              "    20% {\n",
              "      border-color: transparent;\n",
              "      border-left-color: var(--fill-color);\n",
              "      border-top-color: var(--fill-color);\n",
              "    }\n",
              "    30% {\n",
              "      border-color: transparent;\n",
              "      border-left-color: var(--fill-color);\n",
              "      border-top-color: var(--fill-color);\n",
              "      border-right-color: var(--fill-color);\n",
              "    }\n",
              "    40% {\n",
              "      border-color: transparent;\n",
              "      border-right-color: var(--fill-color);\n",
              "      border-top-color: var(--fill-color);\n",
              "    }\n",
              "    60% {\n",
              "      border-color: transparent;\n",
              "      border-right-color: var(--fill-color);\n",
              "    }\n",
              "    80% {\n",
              "      border-color: transparent;\n",
              "      border-right-color: var(--fill-color);\n",
              "      border-bottom-color: var(--fill-color);\n",
              "    }\n",
              "    90% {\n",
              "      border-color: transparent;\n",
              "      border-bottom-color: var(--fill-color);\n",
              "    }\n",
              "  }\n",
              "</style>\n",
              "\n",
              "  <script>\n",
              "    async function quickchart(key) {\n",
              "      const quickchartButtonEl =\n",
              "        document.querySelector('#' + key + ' button');\n",
              "      quickchartButtonEl.disabled = true;  // To prevent multiple clicks.\n",
              "      quickchartButtonEl.classList.add('colab-df-spinner');\n",
              "      try {\n",
              "        const charts = await google.colab.kernel.invokeFunction(\n",
              "            'suggestCharts', [key], {});\n",
              "      } catch (error) {\n",
              "        console.error('Error during call to suggestCharts:', error);\n",
              "      }\n",
              "      quickchartButtonEl.classList.remove('colab-df-spinner');\n",
              "      quickchartButtonEl.classList.add('colab-df-quickchart-complete');\n",
              "    }\n",
              "    (() => {\n",
              "      let quickchartButtonEl =\n",
              "        document.querySelector('#df-4bfaf071-96a6-4966-acf9-5edf59cc9bf3 button');\n",
              "      quickchartButtonEl.style.display =\n",
              "        google.colab.kernel.accessAllowed ? 'block' : 'none';\n",
              "    })();\n",
              "  </script>\n",
              "</div>\n",
              "    </div>\n",
              "  </div>\n"
            ]
          },
          "metadata": {},
          "execution_count": 8
        }
      ]
    },
    {
      "cell_type": "code",
      "source": [
        "dataset['answer'] = dataset['answer'].astype(str)\n",
        "dataset['question'] = dataset['question'].astype(str)\n",
        "dataset['question_id'] = dataset['question_id'].astype(str)\n",
        "dataset.drop('score', inplace=True, axis=1)"
      ],
      "metadata": {
        "id": "Um8CkX0lLQQl"
      },
      "execution_count": 9,
      "outputs": []
    },
    {
      "cell_type": "markdown",
      "source": [
        "## Text cleaning"
      ],
      "metadata": {
        "id": "mKzJ8SzOJnpn"
      }
    },
    {
      "cell_type": "code",
      "source": [
        "nltk.download(\"stopwords\")\n",
        "stopwords = nltk.corpus.stopwords.words(\"english\")"
      ],
      "metadata": {
        "colab": {
          "base_uri": "https://localhost:8080/"
        },
        "id": "4r90wwbKJEm1",
        "outputId": "e41dccdf-c3e3-466e-87ff-f48663fc50ee"
      },
      "execution_count": 10,
      "outputs": [
        {
          "output_type": "stream",
          "name": "stderr",
          "text": [
            "[nltk_data] Downloading package stopwords to /root/nltk_data...\n",
            "[nltk_data]   Package stopwords is already up-to-date!\n"
          ]
        }
      ]
    },
    {
      "cell_type": "code",
      "source": [
        "def clean_text(text: str) -> str:\n",
        "  # Remove punctuations and numbers\n",
        "  text = re.sub(r'[^a-zA-Z]', ' ', text)\n",
        "\n",
        "  # Remove single characters\n",
        "  text = re.sub(r'\\s+[a-zA-Z]\\s+', ' ', text)\n",
        "\n",
        "  # Remove multiple spaces\n",
        "  text = re.sub(r'\\s+', ' ', text)\n",
        "\n",
        "  return text.strip().lower()\n",
        "\n",
        "def remove_stopwords(text: str) -> str:\n",
        "  return ' '.join([token for token in text.split() if token not in stopwords])"
      ],
      "metadata": {
        "id": "W1Pwim7SJ0D-"
      },
      "execution_count": 11,
      "outputs": []
    },
    {
      "cell_type": "code",
      "source": [
        "dataset[\"input\"] = dataset.progress_apply(lambda row: row[\"question\"] + \" \" + row[\"answer\"], axis=1)\n",
        "dataset[\"input\"] = dataset[\"input\"].progress_apply(lambda x: clean_text(remove_stopwords(x)))"
      ],
      "metadata": {
        "colab": {
          "base_uri": "https://localhost:8080/",
          "height": 81,
          "referenced_widgets": [
            "4160024205f64d97b0fc0169df8187af",
            "789c2e5260b24124b17b0960c51d506d",
            "f880aae954c141418773bf5ddd4eadc7",
            "e3001c218212406d8f5d2777bb0fd40e",
            "40a79b66d5ad40f5ac5cde49e39723c6",
            "a5a2d453463d482d9f18156d8fd8c25a",
            "5e0cf532862346589a4ad447b9f01173",
            "131aaec2409f48b5b0ce126f0740d662",
            "575416fe3f884d0791e1e340e5620357",
            "cc96669b7ad34441978c7bba1c2e13aa",
            "a01f2262454c4e3c8e905e28c98f98e5",
            "07c712f9d9ca482c98491bc88f27cea6",
            "e9686aff2d2b4d67b9a3cfa8026024f5",
            "1275a035b9044f208e1994664a2cf016",
            "7f9a20a4f1b441668d845573914bece0",
            "593124caba8c46d39f6850d805306224",
            "8c4a5a546f1f4a3ab454cb05dcbc6c46",
            "0ef114bc0bce40caa4c9449467fd2c91",
            "472561ade136451282a48cca41cf1e7a",
            "b79dbcf237e543b8bbcd1140f2fdbbfc",
            "e8cde041454a4d839018ea2c3c8cd388",
            "43465b6a548047b8b487a36e09083fb4"
          ]
        },
        "id": "P3lVScPfKEwR",
        "outputId": "7b72a547-b61b-4d88-c6dd-c19d8b7b02f1"
      },
      "execution_count": 12,
      "outputs": [
        {
          "output_type": "display_data",
          "data": {
            "text/plain": [
              "  0%|          | 0/2442 [00:00<?, ?it/s]"
            ],
            "application/vnd.jupyter.widget-view+json": {
              "version_major": 2,
              "version_minor": 0,
              "model_id": "4160024205f64d97b0fc0169df8187af"
            }
          },
          "metadata": {}
        },
        {
          "output_type": "display_data",
          "data": {
            "text/plain": [
              "  0%|          | 0/2442 [00:00<?, ?it/s]"
            ],
            "application/vnd.jupyter.widget-view+json": {
              "version_major": 2,
              "version_minor": 0,
              "model_id": "07c712f9d9ca482c98491bc88f27cea6"
            }
          },
          "metadata": {}
        }
      ]
    },
    {
      "cell_type": "code",
      "source": [
        "dataset.head(3)"
      ],
      "metadata": {
        "colab": {
          "base_uri": "https://localhost:8080/",
          "height": 247
        },
        "id": "cBH9M19rLxLt",
        "outputId": "4514ada6-ad7c-4bd3-a13e-a7fe5f3d768b"
      },
      "execution_count": 13,
      "outputs": [
        {
          "output_type": "execute_result",
          "data": {
            "text/plain": [
              "   ID question_id                                           question  \\\n",
              "0   1  2023-01-01   What is the role of a prototype program in pr...   \n",
              "1   2  2023-01-01   What is the role of a prototype program in pr...   \n",
              "2   3  2023-01-01   What is the role of a prototype program in pr...   \n",
              "\n",
              "                                   intructor_answers  \\\n",
              "0   To simulate the behaviour of portions of the ...   \n",
              "1   To simulate the behaviour of portions of the ...   \n",
              "2   To simulate the behaviour of portions of the ...   \n",
              "\n",
              "                                              answer  human_evaluation  \\\n",
              "0   High risk problems are address in the prototy...                 4   \n",
              "1   To simulate portions of the desired final pro...                 5   \n",
              "2   A prototype program simulates the behaviors o...                 4   \n",
              "\n",
              "                                               input  \n",
              "0  what role prototype program problem solving hi...  \n",
              "1  what role prototype program problem solving to...  \n",
              "2  what role prototype program problem solving pr...  "
            ],
            "text/html": [
              "\n",
              "  <div id=\"df-78acb01d-c97b-44f2-8fc2-d1287ff13a0e\" class=\"colab-df-container\">\n",
              "    <div>\n",
              "<style scoped>\n",
              "    .dataframe tbody tr th:only-of-type {\n",
              "        vertical-align: middle;\n",
              "    }\n",
              "\n",
              "    .dataframe tbody tr th {\n",
              "        vertical-align: top;\n",
              "    }\n",
              "\n",
              "    .dataframe thead th {\n",
              "        text-align: right;\n",
              "    }\n",
              "</style>\n",
              "<table border=\"1\" class=\"dataframe\">\n",
              "  <thead>\n",
              "    <tr style=\"text-align: right;\">\n",
              "      <th></th>\n",
              "      <th>ID</th>\n",
              "      <th>question_id</th>\n",
              "      <th>question</th>\n",
              "      <th>intructor_answers</th>\n",
              "      <th>answer</th>\n",
              "      <th>human_evaluation</th>\n",
              "      <th>input</th>\n",
              "    </tr>\n",
              "  </thead>\n",
              "  <tbody>\n",
              "    <tr>\n",
              "      <th>0</th>\n",
              "      <td>1</td>\n",
              "      <td>2023-01-01</td>\n",
              "      <td>What is the role of a prototype program in pr...</td>\n",
              "      <td>To simulate the behaviour of portions of the ...</td>\n",
              "      <td>High risk problems are address in the prototy...</td>\n",
              "      <td>4</td>\n",
              "      <td>what role prototype program problem solving hi...</td>\n",
              "    </tr>\n",
              "    <tr>\n",
              "      <th>1</th>\n",
              "      <td>2</td>\n",
              "      <td>2023-01-01</td>\n",
              "      <td>What is the role of a prototype program in pr...</td>\n",
              "      <td>To simulate the behaviour of portions of the ...</td>\n",
              "      <td>To simulate portions of the desired final pro...</td>\n",
              "      <td>5</td>\n",
              "      <td>what role prototype program problem solving to...</td>\n",
              "    </tr>\n",
              "    <tr>\n",
              "      <th>2</th>\n",
              "      <td>3</td>\n",
              "      <td>2023-01-01</td>\n",
              "      <td>What is the role of a prototype program in pr...</td>\n",
              "      <td>To simulate the behaviour of portions of the ...</td>\n",
              "      <td>A prototype program simulates the behaviors o...</td>\n",
              "      <td>4</td>\n",
              "      <td>what role prototype program problem solving pr...</td>\n",
              "    </tr>\n",
              "  </tbody>\n",
              "</table>\n",
              "</div>\n",
              "    <div class=\"colab-df-buttons\">\n",
              "\n",
              "  <div class=\"colab-df-container\">\n",
              "    <button class=\"colab-df-convert\" onclick=\"convertToInteractive('df-78acb01d-c97b-44f2-8fc2-d1287ff13a0e')\"\n",
              "            title=\"Convert this dataframe to an interactive table.\"\n",
              "            style=\"display:none;\">\n",
              "\n",
              "  <svg xmlns=\"http://www.w3.org/2000/svg\" height=\"24px\" viewBox=\"0 -960 960 960\">\n",
              "    <path d=\"M120-120v-720h720v720H120Zm60-500h600v-160H180v160Zm220 220h160v-160H400v160Zm0 220h160v-160H400v160ZM180-400h160v-160H180v160Zm440 0h160v-160H620v160ZM180-180h160v-160H180v160Zm440 0h160v-160H620v160Z\"/>\n",
              "  </svg>\n",
              "    </button>\n",
              "\n",
              "  <style>\n",
              "    .colab-df-container {\n",
              "      display:flex;\n",
              "      gap: 12px;\n",
              "    }\n",
              "\n",
              "    .colab-df-convert {\n",
              "      background-color: #E8F0FE;\n",
              "      border: none;\n",
              "      border-radius: 50%;\n",
              "      cursor: pointer;\n",
              "      display: none;\n",
              "      fill: #1967D2;\n",
              "      height: 32px;\n",
              "      padding: 0 0 0 0;\n",
              "      width: 32px;\n",
              "    }\n",
              "\n",
              "    .colab-df-convert:hover {\n",
              "      background-color: #E2EBFA;\n",
              "      box-shadow: 0px 1px 2px rgba(60, 64, 67, 0.3), 0px 1px 3px 1px rgba(60, 64, 67, 0.15);\n",
              "      fill: #174EA6;\n",
              "    }\n",
              "\n",
              "    .colab-df-buttons div {\n",
              "      margin-bottom: 4px;\n",
              "    }\n",
              "\n",
              "    [theme=dark] .colab-df-convert {\n",
              "      background-color: #3B4455;\n",
              "      fill: #D2E3FC;\n",
              "    }\n",
              "\n",
              "    [theme=dark] .colab-df-convert:hover {\n",
              "      background-color: #434B5C;\n",
              "      box-shadow: 0px 1px 3px 1px rgba(0, 0, 0, 0.15);\n",
              "      filter: drop-shadow(0px 1px 2px rgba(0, 0, 0, 0.3));\n",
              "      fill: #FFFFFF;\n",
              "    }\n",
              "  </style>\n",
              "\n",
              "    <script>\n",
              "      const buttonEl =\n",
              "        document.querySelector('#df-78acb01d-c97b-44f2-8fc2-d1287ff13a0e button.colab-df-convert');\n",
              "      buttonEl.style.display =\n",
              "        google.colab.kernel.accessAllowed ? 'block' : 'none';\n",
              "\n",
              "      async function convertToInteractive(key) {\n",
              "        const element = document.querySelector('#df-78acb01d-c97b-44f2-8fc2-d1287ff13a0e');\n",
              "        const dataTable =\n",
              "          await google.colab.kernel.invokeFunction('convertToInteractive',\n",
              "                                                    [key], {});\n",
              "        if (!dataTable) return;\n",
              "\n",
              "        const docLinkHtml = 'Like what you see? Visit the ' +\n",
              "          '<a target=\"_blank\" href=https://colab.research.google.com/notebooks/data_table.ipynb>data table notebook</a>'\n",
              "          + ' to learn more about interactive tables.';\n",
              "        element.innerHTML = '';\n",
              "        dataTable['output_type'] = 'display_data';\n",
              "        await google.colab.output.renderOutput(dataTable, element);\n",
              "        const docLink = document.createElement('div');\n",
              "        docLink.innerHTML = docLinkHtml;\n",
              "        element.appendChild(docLink);\n",
              "      }\n",
              "    </script>\n",
              "  </div>\n",
              "\n",
              "\n",
              "<div id=\"df-df3db4a8-d3c2-49b1-8d1d-ceba71b869a7\">\n",
              "  <button class=\"colab-df-quickchart\" onclick=\"quickchart('df-df3db4a8-d3c2-49b1-8d1d-ceba71b869a7')\"\n",
              "            title=\"Suggest charts\"\n",
              "            style=\"display:none;\">\n",
              "\n",
              "<svg xmlns=\"http://www.w3.org/2000/svg\" height=\"24px\"viewBox=\"0 0 24 24\"\n",
              "     width=\"24px\">\n",
              "    <g>\n",
              "        <path d=\"M19 3H5c-1.1 0-2 .9-2 2v14c0 1.1.9 2 2 2h14c1.1 0 2-.9 2-2V5c0-1.1-.9-2-2-2zM9 17H7v-7h2v7zm4 0h-2V7h2v10zm4 0h-2v-4h2v4z\"/>\n",
              "    </g>\n",
              "</svg>\n",
              "  </button>\n",
              "\n",
              "<style>\n",
              "  .colab-df-quickchart {\n",
              "      --bg-color: #E8F0FE;\n",
              "      --fill-color: #1967D2;\n",
              "      --hover-bg-color: #E2EBFA;\n",
              "      --hover-fill-color: #174EA6;\n",
              "      --disabled-fill-color: #AAA;\n",
              "      --disabled-bg-color: #DDD;\n",
              "  }\n",
              "\n",
              "  [theme=dark] .colab-df-quickchart {\n",
              "      --bg-color: #3B4455;\n",
              "      --fill-color: #D2E3FC;\n",
              "      --hover-bg-color: #434B5C;\n",
              "      --hover-fill-color: #FFFFFF;\n",
              "      --disabled-bg-color: #3B4455;\n",
              "      --disabled-fill-color: #666;\n",
              "  }\n",
              "\n",
              "  .colab-df-quickchart {\n",
              "    background-color: var(--bg-color);\n",
              "    border: none;\n",
              "    border-radius: 50%;\n",
              "    cursor: pointer;\n",
              "    display: none;\n",
              "    fill: var(--fill-color);\n",
              "    height: 32px;\n",
              "    padding: 0;\n",
              "    width: 32px;\n",
              "  }\n",
              "\n",
              "  .colab-df-quickchart:hover {\n",
              "    background-color: var(--hover-bg-color);\n",
              "    box-shadow: 0 1px 2px rgba(60, 64, 67, 0.3), 0 1px 3px 1px rgba(60, 64, 67, 0.15);\n",
              "    fill: var(--button-hover-fill-color);\n",
              "  }\n",
              "\n",
              "  .colab-df-quickchart-complete:disabled,\n",
              "  .colab-df-quickchart-complete:disabled:hover {\n",
              "    background-color: var(--disabled-bg-color);\n",
              "    fill: var(--disabled-fill-color);\n",
              "    box-shadow: none;\n",
              "  }\n",
              "\n",
              "  .colab-df-spinner {\n",
              "    border: 2px solid var(--fill-color);\n",
              "    border-color: transparent;\n",
              "    border-bottom-color: var(--fill-color);\n",
              "    animation:\n",
              "      spin 1s steps(1) infinite;\n",
              "  }\n",
              "\n",
              "  @keyframes spin {\n",
              "    0% {\n",
              "      border-color: transparent;\n",
              "      border-bottom-color: var(--fill-color);\n",
              "      border-left-color: var(--fill-color);\n",
              "    }\n",
              "    20% {\n",
              "      border-color: transparent;\n",
              "      border-left-color: var(--fill-color);\n",
              "      border-top-color: var(--fill-color);\n",
              "    }\n",
              "    30% {\n",
              "      border-color: transparent;\n",
              "      border-left-color: var(--fill-color);\n",
              "      border-top-color: var(--fill-color);\n",
              "      border-right-color: var(--fill-color);\n",
              "    }\n",
              "    40% {\n",
              "      border-color: transparent;\n",
              "      border-right-color: var(--fill-color);\n",
              "      border-top-color: var(--fill-color);\n",
              "    }\n",
              "    60% {\n",
              "      border-color: transparent;\n",
              "      border-right-color: var(--fill-color);\n",
              "    }\n",
              "    80% {\n",
              "      border-color: transparent;\n",
              "      border-right-color: var(--fill-color);\n",
              "      border-bottom-color: var(--fill-color);\n",
              "    }\n",
              "    90% {\n",
              "      border-color: transparent;\n",
              "      border-bottom-color: var(--fill-color);\n",
              "    }\n",
              "  }\n",
              "</style>\n",
              "\n",
              "  <script>\n",
              "    async function quickchart(key) {\n",
              "      const quickchartButtonEl =\n",
              "        document.querySelector('#' + key + ' button');\n",
              "      quickchartButtonEl.disabled = true;  // To prevent multiple clicks.\n",
              "      quickchartButtonEl.classList.add('colab-df-spinner');\n",
              "      try {\n",
              "        const charts = await google.colab.kernel.invokeFunction(\n",
              "            'suggestCharts', [key], {});\n",
              "      } catch (error) {\n",
              "        console.error('Error during call to suggestCharts:', error);\n",
              "      }\n",
              "      quickchartButtonEl.classList.remove('colab-df-spinner');\n",
              "      quickchartButtonEl.classList.add('colab-df-quickchart-complete');\n",
              "    }\n",
              "    (() => {\n",
              "      let quickchartButtonEl =\n",
              "        document.querySelector('#df-df3db4a8-d3c2-49b1-8d1d-ceba71b869a7 button');\n",
              "      quickchartButtonEl.style.display =\n",
              "        google.colab.kernel.accessAllowed ? 'block' : 'none';\n",
              "    })();\n",
              "  </script>\n",
              "</div>\n",
              "    </div>\n",
              "  </div>\n"
            ]
          },
          "metadata": {},
          "execution_count": 13
        }
      ]
    },
    {
      "cell_type": "markdown",
      "source": [
        "## Data spliting"
      ],
      "metadata": {
        "id": "hG6lvTTCMmVP"
      }
    },
    {
      "cell_type": "code",
      "source": [
        "X = dataset.drop(\"human_evaluation\", axis=1)\n",
        "y = dataset[\"human_evaluation\"]"
      ],
      "metadata": {
        "id": "HM2KMUdaM9-a"
      },
      "execution_count": 14,
      "outputs": []
    },
    {
      "cell_type": "code",
      "source": [
        "X_train, X_test, y_train, y_test = train_test_split(X, y, test_size=TEST_SIZE, shuffle=True, random_state=RANDOM_STATE, stratify=y)\n",
        "len(X_train), len(X_test), len(y_train), len(y_test)"
      ],
      "metadata": {
        "colab": {
          "base_uri": "https://localhost:8080/"
        },
        "id": "6yeyp4ABL7yy",
        "outputId": "47425904-316d-4afd-8f8e-1c93a12d0c1f"
      },
      "execution_count": 15,
      "outputs": [
        {
          "output_type": "execute_result",
          "data": {
            "text/plain": [
              "(1953, 489, 1953, 489)"
            ]
          },
          "metadata": {},
          "execution_count": 15
        }
      ]
    },
    {
      "cell_type": "code",
      "source": [
        "y_test.unique()"
      ],
      "metadata": {
        "colab": {
          "base_uri": "https://localhost:8080/"
        },
        "id": "NfA88Uz8Cx3_",
        "outputId": "bd525006-edc8-4563-d70f-f87edb999006"
      },
      "execution_count": 16,
      "outputs": [
        {
          "output_type": "execute_result",
          "data": {
            "text/plain": [
              "array([5, 4, 3, 1, 2, 0])"
            ]
          },
          "metadata": {},
          "execution_count": 16
        }
      ]
    },
    {
      "cell_type": "markdown",
      "source": [
        "## Dealing with Unbalanced Data"
      ],
      "metadata": {
        "id": "n1EZJ9eVEpVO"
      }
    },
    {
      "cell_type": "code",
      "source": [
        "dataset = pd.concat([X_train, y_train], axis=1)\n",
        "dataset.head()"
      ],
      "metadata": {
        "colab": {
          "base_uri": "https://localhost:8080/",
          "height": 379
        },
        "id": "6pHvLlIUExPI",
        "outputId": "ad0e436c-22f9-4ea0-8700-09b9eb529dbb"
      },
      "execution_count": 17,
      "outputs": [
        {
          "output_type": "execute_result",
          "data": {
            "text/plain": [
              "        ID question_id                                           question  \\\n",
              "962    963  2023-01-06                                 What is a pointer?   \n",
              "2194  2195  2023-02-12  What is the experimental approach for measurin...   \n",
              "46      47  2023-02-01   What stages in the software life cycle are in...   \n",
              "1426  1427  2023-05-08  Which implementation (array-based vs. list-bas...   \n",
              "2441  2442  2023-10-12  How many steps does it take to search a node i...   \n",
              "\n",
              "                                      intructor_answers  \\\n",
              "962   A variable that contains the address in memory...   \n",
              "2194  Implement the algorithm and measure the physic...   \n",
              "46     The testing stage can influence both the codi...   \n",
              "1426  Link-based, because they are dynamic (no size ...   \n",
              "2441                            The height of the tree.   \n",
              "\n",
              "                                                 answer  \\\n",
              "962   It is like a variable however instead of holdi...   \n",
              "2194  Experimental means you would actually write a ...   \n",
              "46     Depending on how the work is done, Testing is...   \n",
              "1426  Array-based prevents the push operation  from ...   \n",
              "2441  it depends on the install search tree then fro...   \n",
              "\n",
              "                                                  input  human_evaluation  \n",
              "962   what pointer it like variable however instead ...                 5  \n",
              "2194  what experimental approach measuring running t...                 5  \n",
              "46    what stages software life cycle influenced tes...                 2  \n",
              "1426  which implementation array based vs list based...                 5  \n",
              "2441  how many steps take search node binary search ...                 2  "
            ],
            "text/html": [
              "\n",
              "  <div id=\"df-68683e29-b6a7-4534-b672-1aa356d23bcf\" class=\"colab-df-container\">\n",
              "    <div>\n",
              "<style scoped>\n",
              "    .dataframe tbody tr th:only-of-type {\n",
              "        vertical-align: middle;\n",
              "    }\n",
              "\n",
              "    .dataframe tbody tr th {\n",
              "        vertical-align: top;\n",
              "    }\n",
              "\n",
              "    .dataframe thead th {\n",
              "        text-align: right;\n",
              "    }\n",
              "</style>\n",
              "<table border=\"1\" class=\"dataframe\">\n",
              "  <thead>\n",
              "    <tr style=\"text-align: right;\">\n",
              "      <th></th>\n",
              "      <th>ID</th>\n",
              "      <th>question_id</th>\n",
              "      <th>question</th>\n",
              "      <th>intructor_answers</th>\n",
              "      <th>answer</th>\n",
              "      <th>input</th>\n",
              "      <th>human_evaluation</th>\n",
              "    </tr>\n",
              "  </thead>\n",
              "  <tbody>\n",
              "    <tr>\n",
              "      <th>962</th>\n",
              "      <td>963</td>\n",
              "      <td>2023-01-06</td>\n",
              "      <td>What is a pointer?</td>\n",
              "      <td>A variable that contains the address in memory...</td>\n",
              "      <td>It is like a variable however instead of holdi...</td>\n",
              "      <td>what pointer it like variable however instead ...</td>\n",
              "      <td>5</td>\n",
              "    </tr>\n",
              "    <tr>\n",
              "      <th>2194</th>\n",
              "      <td>2195</td>\n",
              "      <td>2023-02-12</td>\n",
              "      <td>What is the experimental approach for measurin...</td>\n",
              "      <td>Implement the algorithm and measure the physic...</td>\n",
              "      <td>Experimental means you would actually write a ...</td>\n",
              "      <td>what experimental approach measuring running t...</td>\n",
              "      <td>5</td>\n",
              "    </tr>\n",
              "    <tr>\n",
              "      <th>46</th>\n",
              "      <td>47</td>\n",
              "      <td>2023-02-01</td>\n",
              "      <td>What stages in the software life cycle are in...</td>\n",
              "      <td>The testing stage can influence both the codi...</td>\n",
              "      <td>Depending on how the work is done, Testing is...</td>\n",
              "      <td>what stages software life cycle influenced tes...</td>\n",
              "      <td>2</td>\n",
              "    </tr>\n",
              "    <tr>\n",
              "      <th>1426</th>\n",
              "      <td>1427</td>\n",
              "      <td>2023-05-08</td>\n",
              "      <td>Which implementation (array-based vs. list-bas...</td>\n",
              "      <td>Link-based, because they are dynamic (no size ...</td>\n",
              "      <td>Array-based prevents the push operation  from ...</td>\n",
              "      <td>which implementation array based vs list based...</td>\n",
              "      <td>5</td>\n",
              "    </tr>\n",
              "    <tr>\n",
              "      <th>2441</th>\n",
              "      <td>2442</td>\n",
              "      <td>2023-10-12</td>\n",
              "      <td>How many steps does it take to search a node i...</td>\n",
              "      <td>The height of the tree.</td>\n",
              "      <td>it depends on the install search tree then fro...</td>\n",
              "      <td>how many steps take search node binary search ...</td>\n",
              "      <td>2</td>\n",
              "    </tr>\n",
              "  </tbody>\n",
              "</table>\n",
              "</div>\n",
              "    <div class=\"colab-df-buttons\">\n",
              "\n",
              "  <div class=\"colab-df-container\">\n",
              "    <button class=\"colab-df-convert\" onclick=\"convertToInteractive('df-68683e29-b6a7-4534-b672-1aa356d23bcf')\"\n",
              "            title=\"Convert this dataframe to an interactive table.\"\n",
              "            style=\"display:none;\">\n",
              "\n",
              "  <svg xmlns=\"http://www.w3.org/2000/svg\" height=\"24px\" viewBox=\"0 -960 960 960\">\n",
              "    <path d=\"M120-120v-720h720v720H120Zm60-500h600v-160H180v160Zm220 220h160v-160H400v160Zm0 220h160v-160H400v160ZM180-400h160v-160H180v160Zm440 0h160v-160H620v160ZM180-180h160v-160H180v160Zm440 0h160v-160H620v160Z\"/>\n",
              "  </svg>\n",
              "    </button>\n",
              "\n",
              "  <style>\n",
              "    .colab-df-container {\n",
              "      display:flex;\n",
              "      gap: 12px;\n",
              "    }\n",
              "\n",
              "    .colab-df-convert {\n",
              "      background-color: #E8F0FE;\n",
              "      border: none;\n",
              "      border-radius: 50%;\n",
              "      cursor: pointer;\n",
              "      display: none;\n",
              "      fill: #1967D2;\n",
              "      height: 32px;\n",
              "      padding: 0 0 0 0;\n",
              "      width: 32px;\n",
              "    }\n",
              "\n",
              "    .colab-df-convert:hover {\n",
              "      background-color: #E2EBFA;\n",
              "      box-shadow: 0px 1px 2px rgba(60, 64, 67, 0.3), 0px 1px 3px 1px rgba(60, 64, 67, 0.15);\n",
              "      fill: #174EA6;\n",
              "    }\n",
              "\n",
              "    .colab-df-buttons div {\n",
              "      margin-bottom: 4px;\n",
              "    }\n",
              "\n",
              "    [theme=dark] .colab-df-convert {\n",
              "      background-color: #3B4455;\n",
              "      fill: #D2E3FC;\n",
              "    }\n",
              "\n",
              "    [theme=dark] .colab-df-convert:hover {\n",
              "      background-color: #434B5C;\n",
              "      box-shadow: 0px 1px 3px 1px rgba(0, 0, 0, 0.15);\n",
              "      filter: drop-shadow(0px 1px 2px rgba(0, 0, 0, 0.3));\n",
              "      fill: #FFFFFF;\n",
              "    }\n",
              "  </style>\n",
              "\n",
              "    <script>\n",
              "      const buttonEl =\n",
              "        document.querySelector('#df-68683e29-b6a7-4534-b672-1aa356d23bcf button.colab-df-convert');\n",
              "      buttonEl.style.display =\n",
              "        google.colab.kernel.accessAllowed ? 'block' : 'none';\n",
              "\n",
              "      async function convertToInteractive(key) {\n",
              "        const element = document.querySelector('#df-68683e29-b6a7-4534-b672-1aa356d23bcf');\n",
              "        const dataTable =\n",
              "          await google.colab.kernel.invokeFunction('convertToInteractive',\n",
              "                                                    [key], {});\n",
              "        if (!dataTable) return;\n",
              "\n",
              "        const docLinkHtml = 'Like what you see? Visit the ' +\n",
              "          '<a target=\"_blank\" href=https://colab.research.google.com/notebooks/data_table.ipynb>data table notebook</a>'\n",
              "          + ' to learn more about interactive tables.';\n",
              "        element.innerHTML = '';\n",
              "        dataTable['output_type'] = 'display_data';\n",
              "        await google.colab.output.renderOutput(dataTable, element);\n",
              "        const docLink = document.createElement('div');\n",
              "        docLink.innerHTML = docLinkHtml;\n",
              "        element.appendChild(docLink);\n",
              "      }\n",
              "    </script>\n",
              "  </div>\n",
              "\n",
              "\n",
              "<div id=\"df-62fdae54-ab07-4687-9ff1-1b29e7d70c46\">\n",
              "  <button class=\"colab-df-quickchart\" onclick=\"quickchart('df-62fdae54-ab07-4687-9ff1-1b29e7d70c46')\"\n",
              "            title=\"Suggest charts\"\n",
              "            style=\"display:none;\">\n",
              "\n",
              "<svg xmlns=\"http://www.w3.org/2000/svg\" height=\"24px\"viewBox=\"0 0 24 24\"\n",
              "     width=\"24px\">\n",
              "    <g>\n",
              "        <path d=\"M19 3H5c-1.1 0-2 .9-2 2v14c0 1.1.9 2 2 2h14c1.1 0 2-.9 2-2V5c0-1.1-.9-2-2-2zM9 17H7v-7h2v7zm4 0h-2V7h2v10zm4 0h-2v-4h2v4z\"/>\n",
              "    </g>\n",
              "</svg>\n",
              "  </button>\n",
              "\n",
              "<style>\n",
              "  .colab-df-quickchart {\n",
              "      --bg-color: #E8F0FE;\n",
              "      --fill-color: #1967D2;\n",
              "      --hover-bg-color: #E2EBFA;\n",
              "      --hover-fill-color: #174EA6;\n",
              "      --disabled-fill-color: #AAA;\n",
              "      --disabled-bg-color: #DDD;\n",
              "  }\n",
              "\n",
              "  [theme=dark] .colab-df-quickchart {\n",
              "      --bg-color: #3B4455;\n",
              "      --fill-color: #D2E3FC;\n",
              "      --hover-bg-color: #434B5C;\n",
              "      --hover-fill-color: #FFFFFF;\n",
              "      --disabled-bg-color: #3B4455;\n",
              "      --disabled-fill-color: #666;\n",
              "  }\n",
              "\n",
              "  .colab-df-quickchart {\n",
              "    background-color: var(--bg-color);\n",
              "    border: none;\n",
              "    border-radius: 50%;\n",
              "    cursor: pointer;\n",
              "    display: none;\n",
              "    fill: var(--fill-color);\n",
              "    height: 32px;\n",
              "    padding: 0;\n",
              "    width: 32px;\n",
              "  }\n",
              "\n",
              "  .colab-df-quickchart:hover {\n",
              "    background-color: var(--hover-bg-color);\n",
              "    box-shadow: 0 1px 2px rgba(60, 64, 67, 0.3), 0 1px 3px 1px rgba(60, 64, 67, 0.15);\n",
              "    fill: var(--button-hover-fill-color);\n",
              "  }\n",
              "\n",
              "  .colab-df-quickchart-complete:disabled,\n",
              "  .colab-df-quickchart-complete:disabled:hover {\n",
              "    background-color: var(--disabled-bg-color);\n",
              "    fill: var(--disabled-fill-color);\n",
              "    box-shadow: none;\n",
              "  }\n",
              "\n",
              "  .colab-df-spinner {\n",
              "    border: 2px solid var(--fill-color);\n",
              "    border-color: transparent;\n",
              "    border-bottom-color: var(--fill-color);\n",
              "    animation:\n",
              "      spin 1s steps(1) infinite;\n",
              "  }\n",
              "\n",
              "  @keyframes spin {\n",
              "    0% {\n",
              "      border-color: transparent;\n",
              "      border-bottom-color: var(--fill-color);\n",
              "      border-left-color: var(--fill-color);\n",
              "    }\n",
              "    20% {\n",
              "      border-color: transparent;\n",
              "      border-left-color: var(--fill-color);\n",
              "      border-top-color: var(--fill-color);\n",
              "    }\n",
              "    30% {\n",
              "      border-color: transparent;\n",
              "      border-left-color: var(--fill-color);\n",
              "      border-top-color: var(--fill-color);\n",
              "      border-right-color: var(--fill-color);\n",
              "    }\n",
              "    40% {\n",
              "      border-color: transparent;\n",
              "      border-right-color: var(--fill-color);\n",
              "      border-top-color: var(--fill-color);\n",
              "    }\n",
              "    60% {\n",
              "      border-color: transparent;\n",
              "      border-right-color: var(--fill-color);\n",
              "    }\n",
              "    80% {\n",
              "      border-color: transparent;\n",
              "      border-right-color: var(--fill-color);\n",
              "      border-bottom-color: var(--fill-color);\n",
              "    }\n",
              "    90% {\n",
              "      border-color: transparent;\n",
              "      border-bottom-color: var(--fill-color);\n",
              "    }\n",
              "  }\n",
              "</style>\n",
              "\n",
              "  <script>\n",
              "    async function quickchart(key) {\n",
              "      const quickchartButtonEl =\n",
              "        document.querySelector('#' + key + ' button');\n",
              "      quickchartButtonEl.disabled = true;  // To prevent multiple clicks.\n",
              "      quickchartButtonEl.classList.add('colab-df-spinner');\n",
              "      try {\n",
              "        const charts = await google.colab.kernel.invokeFunction(\n",
              "            'suggestCharts', [key], {});\n",
              "      } catch (error) {\n",
              "        console.error('Error during call to suggestCharts:', error);\n",
              "      }\n",
              "      quickchartButtonEl.classList.remove('colab-df-spinner');\n",
              "      quickchartButtonEl.classList.add('colab-df-quickchart-complete');\n",
              "    }\n",
              "    (() => {\n",
              "      let quickchartButtonEl =\n",
              "        document.querySelector('#df-62fdae54-ab07-4687-9ff1-1b29e7d70c46 button');\n",
              "      quickchartButtonEl.style.display =\n",
              "        google.colab.kernel.accessAllowed ? 'block' : 'none';\n",
              "    })();\n",
              "  </script>\n",
              "</div>\n",
              "    </div>\n",
              "  </div>\n"
            ]
          },
          "metadata": {},
          "execution_count": 17
        }
      ]
    },
    {
      "cell_type": "code",
      "source": [
        "dataset[\"human_evaluation\"].value_counts()"
      ],
      "metadata": {
        "colab": {
          "base_uri": "https://localhost:8080/"
        },
        "id": "j207jNWvFKyV",
        "outputId": "b6745b69-c118-4b2d-9b6d-9ce3db3a4906"
      },
      "execution_count": 18,
      "outputs": [
        {
          "output_type": "execute_result",
          "data": {
            "text/plain": [
              "5    1239\n",
              "4     329\n",
              "3     232\n",
              "2     113\n",
              "1      21\n",
              "0      19\n",
              "Name: human_evaluation, dtype: int64"
            ]
          },
          "metadata": {},
          "execution_count": 18
        }
      ]
    },
    {
      "cell_type": "code",
      "source": [
        "label_5_ds = dataset[dataset[\"human_evaluation\"] == 5]\n",
        "label_5_ds = pd.concat([label_5_ds] * 1, axis=0, ignore_index=True)\n",
        "len(label_5_ds)"
      ],
      "metadata": {
        "colab": {
          "base_uri": "https://localhost:8080/"
        },
        "id": "ZioyCxlqHa7K",
        "outputId": "296941b8-b66b-4468-a42a-77ed62ec7203"
      },
      "execution_count": 19,
      "outputs": [
        {
          "output_type": "execute_result",
          "data": {
            "text/plain": [
              "1239"
            ]
          },
          "metadata": {},
          "execution_count": 19
        }
      ]
    },
    {
      "cell_type": "code",
      "source": [
        "label_4_ds = dataset[dataset[\"human_evaluation\"] == 4]\n",
        "label_4_ds = pd.concat([label_4_ds] * 4, axis=0, ignore_index=True)\n",
        "len(label_4_ds)"
      ],
      "metadata": {
        "colab": {
          "base_uri": "https://localhost:8080/"
        },
        "id": "0y4yLa5wFQKY",
        "outputId": "9aa28fbd-bdee-4b49-c9b8-0cce26774762"
      },
      "execution_count": 20,
      "outputs": [
        {
          "output_type": "execute_result",
          "data": {
            "text/plain": [
              "1316"
            ]
          },
          "metadata": {},
          "execution_count": 20
        }
      ]
    },
    {
      "cell_type": "code",
      "source": [
        "label_3_ds = dataset[dataset[\"human_evaluation\"] == 3]\n",
        "label_3_ds = pd.concat([label_3_ds] * 5, axis=0, ignore_index=True)\n",
        "len(label_3_ds)"
      ],
      "metadata": {
        "colab": {
          "base_uri": "https://localhost:8080/"
        },
        "id": "jn1IP-R5GO97",
        "outputId": "9309fec8-b174-44c7-f547-60abe0c3bd98"
      },
      "execution_count": 21,
      "outputs": [
        {
          "output_type": "execute_result",
          "data": {
            "text/plain": [
              "1160"
            ]
          },
          "metadata": {},
          "execution_count": 21
        }
      ]
    },
    {
      "cell_type": "code",
      "source": [
        "label_2_ds = dataset[dataset[\"human_evaluation\"] == 2]\n",
        "label_2_ds = pd.concat([label_2_ds] * 10, axis=0, ignore_index=True)\n",
        "len(label_2_ds)"
      ],
      "metadata": {
        "colab": {
          "base_uri": "https://localhost:8080/"
        },
        "id": "Mniyj4SwGkRH",
        "outputId": "88d9fed7-95ad-4fa6-9d0b-a525997b5edc"
      },
      "execution_count": 22,
      "outputs": [
        {
          "output_type": "execute_result",
          "data": {
            "text/plain": [
              "1130"
            ]
          },
          "metadata": {},
          "execution_count": 22
        }
      ]
    },
    {
      "cell_type": "code",
      "source": [
        "label_1_ds = dataset[dataset[\"human_evaluation\"] == 1]\n",
        "label_1_ds = pd.concat([label_1_ds] * 50, axis=0, ignore_index=True)\n",
        "len(label_1_ds)"
      ],
      "metadata": {
        "colab": {
          "base_uri": "https://localhost:8080/"
        },
        "id": "02f-WmKGGta8",
        "outputId": "13adb617-5b08-411a-be28-b629eddd0f44"
      },
      "execution_count": 23,
      "outputs": [
        {
          "output_type": "execute_result",
          "data": {
            "text/plain": [
              "1050"
            ]
          },
          "metadata": {},
          "execution_count": 23
        }
      ]
    },
    {
      "cell_type": "code",
      "source": [
        "label_0_ds = dataset[dataset[\"human_evaluation\"] == 0]\n",
        "label_0_ds = pd.concat([label_0_ds] * 53, axis=0, ignore_index=True)\n",
        "len(label_0_ds)"
      ],
      "metadata": {
        "colab": {
          "base_uri": "https://localhost:8080/"
        },
        "id": "-tkpNqdjG62p",
        "outputId": "f8f17730-ceb2-4620-eb72-13866f291cea"
      },
      "execution_count": 24,
      "outputs": [
        {
          "output_type": "execute_result",
          "data": {
            "text/plain": [
              "1007"
            ]
          },
          "metadata": {},
          "execution_count": 24
        }
      ]
    },
    {
      "cell_type": "code",
      "source": [
        "dataset = pd.concat([label_0_ds, label_1_ds, label_2_ds, label_3_ds, label_4_ds, label_5_ds], axis=0)\n",
        "len(dataset)"
      ],
      "metadata": {
        "colab": {
          "base_uri": "https://localhost:8080/"
        },
        "id": "BS5W4CndHKJm",
        "outputId": "f04d3fdf-ee5c-4cdb-ab24-f0f2ee27692d"
      },
      "execution_count": 25,
      "outputs": [
        {
          "output_type": "execute_result",
          "data": {
            "text/plain": [
              "6902"
            ]
          },
          "metadata": {},
          "execution_count": 25
        }
      ]
    },
    {
      "cell_type": "code",
      "source": [
        "dataset = dataset.sample(frac=1, random_state=RANDOM_STATE).reset_index(drop=True)\n",
        "dataset.head()"
      ],
      "metadata": {
        "colab": {
          "base_uri": "https://localhost:8080/",
          "height": 362
        },
        "id": "I9aEwjh2I4v5",
        "outputId": "6ba05dce-ba23-400d-ef74-00dc83d1a4a6"
      },
      "execution_count": 26,
      "outputs": [
        {
          "output_type": "execute_result",
          "data": {
            "text/plain": [
              "     ID question_id                                           question  \\\n",
              "0  1223  2023-04-07  How are linked lists passed as arguments to a ...   \n",
              "1  1777  2023-04-10                             What is a binary tree?   \n",
              "2  2240  2023-03-12  Order the following functions by their running...   \n",
              "3   690  2023-02-04  What is the main difference between strings de...   \n",
              "4  2422  2023-10-12  How many steps does it take to search a node i...   \n",
              "\n",
              "                                   intructor_answers  \\\n",
              "0                                      By reference.   \n",
              "1  A tree for which the maximum number of childre...   \n",
              "2             log(log n);  2^(log n) ; n^2 ; n^3; n!   \n",
              "3  The strings declared using an array of charact...   \n",
              "4                            The height of the tree.   \n",
              "\n",
              "                                              answer  \\\n",
              "0                                       not answered   \n",
              "1  A binary search tree is a tree that also has t...   \n",
              "2  longest to shortest:<br>n^3; n!; n^2; 2^(log n...   \n",
              "3  array  it is the collection of similar data ty...   \n",
              "4  2^n where n is the # of levels the binary tree...   \n",
              "\n",
              "                                               input  human_evaluation  \n",
              "0  how linked lists passed arguments function ans...                 0  \n",
              "1  what binary tree binary search tree tree also ...                 5  \n",
              "2  order following functions running time log log...                 3  \n",
              "3  what main difference strings declared using ty...                 3  \n",
              "4  how many steps take search node binary search ...                 2  "
            ],
            "text/html": [
              "\n",
              "  <div id=\"df-389e92f3-e28c-416c-afe9-c27cd1ada209\" class=\"colab-df-container\">\n",
              "    <div>\n",
              "<style scoped>\n",
              "    .dataframe tbody tr th:only-of-type {\n",
              "        vertical-align: middle;\n",
              "    }\n",
              "\n",
              "    .dataframe tbody tr th {\n",
              "        vertical-align: top;\n",
              "    }\n",
              "\n",
              "    .dataframe thead th {\n",
              "        text-align: right;\n",
              "    }\n",
              "</style>\n",
              "<table border=\"1\" class=\"dataframe\">\n",
              "  <thead>\n",
              "    <tr style=\"text-align: right;\">\n",
              "      <th></th>\n",
              "      <th>ID</th>\n",
              "      <th>question_id</th>\n",
              "      <th>question</th>\n",
              "      <th>intructor_answers</th>\n",
              "      <th>answer</th>\n",
              "      <th>input</th>\n",
              "      <th>human_evaluation</th>\n",
              "    </tr>\n",
              "  </thead>\n",
              "  <tbody>\n",
              "    <tr>\n",
              "      <th>0</th>\n",
              "      <td>1223</td>\n",
              "      <td>2023-04-07</td>\n",
              "      <td>How are linked lists passed as arguments to a ...</td>\n",
              "      <td>By reference.</td>\n",
              "      <td>not answered</td>\n",
              "      <td>how linked lists passed arguments function ans...</td>\n",
              "      <td>0</td>\n",
              "    </tr>\n",
              "    <tr>\n",
              "      <th>1</th>\n",
              "      <td>1777</td>\n",
              "      <td>2023-04-10</td>\n",
              "      <td>What is a binary tree?</td>\n",
              "      <td>A tree for which the maximum number of childre...</td>\n",
              "      <td>A binary search tree is a tree that also has t...</td>\n",
              "      <td>what binary tree binary search tree tree also ...</td>\n",
              "      <td>5</td>\n",
              "    </tr>\n",
              "    <tr>\n",
              "      <th>2</th>\n",
              "      <td>2240</td>\n",
              "      <td>2023-03-12</td>\n",
              "      <td>Order the following functions by their running...</td>\n",
              "      <td>log(log n);  2^(log n) ; n^2 ; n^3; n!</td>\n",
              "      <td>longest to shortest:&lt;br&gt;n^3; n!; n^2; 2^(log n...</td>\n",
              "      <td>order following functions running time log log...</td>\n",
              "      <td>3</td>\n",
              "    </tr>\n",
              "    <tr>\n",
              "      <th>3</th>\n",
              "      <td>690</td>\n",
              "      <td>2023-02-04</td>\n",
              "      <td>What is the main difference between strings de...</td>\n",
              "      <td>The strings declared using an array of charact...</td>\n",
              "      <td>array  it is the collection of similar data ty...</td>\n",
              "      <td>what main difference strings declared using ty...</td>\n",
              "      <td>3</td>\n",
              "    </tr>\n",
              "    <tr>\n",
              "      <th>4</th>\n",
              "      <td>2422</td>\n",
              "      <td>2023-10-12</td>\n",
              "      <td>How many steps does it take to search a node i...</td>\n",
              "      <td>The height of the tree.</td>\n",
              "      <td>2^n where n is the # of levels the binary tree...</td>\n",
              "      <td>how many steps take search node binary search ...</td>\n",
              "      <td>2</td>\n",
              "    </tr>\n",
              "  </tbody>\n",
              "</table>\n",
              "</div>\n",
              "    <div class=\"colab-df-buttons\">\n",
              "\n",
              "  <div class=\"colab-df-container\">\n",
              "    <button class=\"colab-df-convert\" onclick=\"convertToInteractive('df-389e92f3-e28c-416c-afe9-c27cd1ada209')\"\n",
              "            title=\"Convert this dataframe to an interactive table.\"\n",
              "            style=\"display:none;\">\n",
              "\n",
              "  <svg xmlns=\"http://www.w3.org/2000/svg\" height=\"24px\" viewBox=\"0 -960 960 960\">\n",
              "    <path d=\"M120-120v-720h720v720H120Zm60-500h600v-160H180v160Zm220 220h160v-160H400v160Zm0 220h160v-160H400v160ZM180-400h160v-160H180v160Zm440 0h160v-160H620v160ZM180-180h160v-160H180v160Zm440 0h160v-160H620v160Z\"/>\n",
              "  </svg>\n",
              "    </button>\n",
              "\n",
              "  <style>\n",
              "    .colab-df-container {\n",
              "      display:flex;\n",
              "      gap: 12px;\n",
              "    }\n",
              "\n",
              "    .colab-df-convert {\n",
              "      background-color: #E8F0FE;\n",
              "      border: none;\n",
              "      border-radius: 50%;\n",
              "      cursor: pointer;\n",
              "      display: none;\n",
              "      fill: #1967D2;\n",
              "      height: 32px;\n",
              "      padding: 0 0 0 0;\n",
              "      width: 32px;\n",
              "    }\n",
              "\n",
              "    .colab-df-convert:hover {\n",
              "      background-color: #E2EBFA;\n",
              "      box-shadow: 0px 1px 2px rgba(60, 64, 67, 0.3), 0px 1px 3px 1px rgba(60, 64, 67, 0.15);\n",
              "      fill: #174EA6;\n",
              "    }\n",
              "\n",
              "    .colab-df-buttons div {\n",
              "      margin-bottom: 4px;\n",
              "    }\n",
              "\n",
              "    [theme=dark] .colab-df-convert {\n",
              "      background-color: #3B4455;\n",
              "      fill: #D2E3FC;\n",
              "    }\n",
              "\n",
              "    [theme=dark] .colab-df-convert:hover {\n",
              "      background-color: #434B5C;\n",
              "      box-shadow: 0px 1px 3px 1px rgba(0, 0, 0, 0.15);\n",
              "      filter: drop-shadow(0px 1px 2px rgba(0, 0, 0, 0.3));\n",
              "      fill: #FFFFFF;\n",
              "    }\n",
              "  </style>\n",
              "\n",
              "    <script>\n",
              "      const buttonEl =\n",
              "        document.querySelector('#df-389e92f3-e28c-416c-afe9-c27cd1ada209 button.colab-df-convert');\n",
              "      buttonEl.style.display =\n",
              "        google.colab.kernel.accessAllowed ? 'block' : 'none';\n",
              "\n",
              "      async function convertToInteractive(key) {\n",
              "        const element = document.querySelector('#df-389e92f3-e28c-416c-afe9-c27cd1ada209');\n",
              "        const dataTable =\n",
              "          await google.colab.kernel.invokeFunction('convertToInteractive',\n",
              "                                                    [key], {});\n",
              "        if (!dataTable) return;\n",
              "\n",
              "        const docLinkHtml = 'Like what you see? Visit the ' +\n",
              "          '<a target=\"_blank\" href=https://colab.research.google.com/notebooks/data_table.ipynb>data table notebook</a>'\n",
              "          + ' to learn more about interactive tables.';\n",
              "        element.innerHTML = '';\n",
              "        dataTable['output_type'] = 'display_data';\n",
              "        await google.colab.output.renderOutput(dataTable, element);\n",
              "        const docLink = document.createElement('div');\n",
              "        docLink.innerHTML = docLinkHtml;\n",
              "        element.appendChild(docLink);\n",
              "      }\n",
              "    </script>\n",
              "  </div>\n",
              "\n",
              "\n",
              "<div id=\"df-39510ec8-a362-442c-9048-55618f450564\">\n",
              "  <button class=\"colab-df-quickchart\" onclick=\"quickchart('df-39510ec8-a362-442c-9048-55618f450564')\"\n",
              "            title=\"Suggest charts\"\n",
              "            style=\"display:none;\">\n",
              "\n",
              "<svg xmlns=\"http://www.w3.org/2000/svg\" height=\"24px\"viewBox=\"0 0 24 24\"\n",
              "     width=\"24px\">\n",
              "    <g>\n",
              "        <path d=\"M19 3H5c-1.1 0-2 .9-2 2v14c0 1.1.9 2 2 2h14c1.1 0 2-.9 2-2V5c0-1.1-.9-2-2-2zM9 17H7v-7h2v7zm4 0h-2V7h2v10zm4 0h-2v-4h2v4z\"/>\n",
              "    </g>\n",
              "</svg>\n",
              "  </button>\n",
              "\n",
              "<style>\n",
              "  .colab-df-quickchart {\n",
              "      --bg-color: #E8F0FE;\n",
              "      --fill-color: #1967D2;\n",
              "      --hover-bg-color: #E2EBFA;\n",
              "      --hover-fill-color: #174EA6;\n",
              "      --disabled-fill-color: #AAA;\n",
              "      --disabled-bg-color: #DDD;\n",
              "  }\n",
              "\n",
              "  [theme=dark] .colab-df-quickchart {\n",
              "      --bg-color: #3B4455;\n",
              "      --fill-color: #D2E3FC;\n",
              "      --hover-bg-color: #434B5C;\n",
              "      --hover-fill-color: #FFFFFF;\n",
              "      --disabled-bg-color: #3B4455;\n",
              "      --disabled-fill-color: #666;\n",
              "  }\n",
              "\n",
              "  .colab-df-quickchart {\n",
              "    background-color: var(--bg-color);\n",
              "    border: none;\n",
              "    border-radius: 50%;\n",
              "    cursor: pointer;\n",
              "    display: none;\n",
              "    fill: var(--fill-color);\n",
              "    height: 32px;\n",
              "    padding: 0;\n",
              "    width: 32px;\n",
              "  }\n",
              "\n",
              "  .colab-df-quickchart:hover {\n",
              "    background-color: var(--hover-bg-color);\n",
              "    box-shadow: 0 1px 2px rgba(60, 64, 67, 0.3), 0 1px 3px 1px rgba(60, 64, 67, 0.15);\n",
              "    fill: var(--button-hover-fill-color);\n",
              "  }\n",
              "\n",
              "  .colab-df-quickchart-complete:disabled,\n",
              "  .colab-df-quickchart-complete:disabled:hover {\n",
              "    background-color: var(--disabled-bg-color);\n",
              "    fill: var(--disabled-fill-color);\n",
              "    box-shadow: none;\n",
              "  }\n",
              "\n",
              "  .colab-df-spinner {\n",
              "    border: 2px solid var(--fill-color);\n",
              "    border-color: transparent;\n",
              "    border-bottom-color: var(--fill-color);\n",
              "    animation:\n",
              "      spin 1s steps(1) infinite;\n",
              "  }\n",
              "\n",
              "  @keyframes spin {\n",
              "    0% {\n",
              "      border-color: transparent;\n",
              "      border-bottom-color: var(--fill-color);\n",
              "      border-left-color: var(--fill-color);\n",
              "    }\n",
              "    20% {\n",
              "      border-color: transparent;\n",
              "      border-left-color: var(--fill-color);\n",
              "      border-top-color: var(--fill-color);\n",
              "    }\n",
              "    30% {\n",
              "      border-color: transparent;\n",
              "      border-left-color: var(--fill-color);\n",
              "      border-top-color: var(--fill-color);\n",
              "      border-right-color: var(--fill-color);\n",
              "    }\n",
              "    40% {\n",
              "      border-color: transparent;\n",
              "      border-right-color: var(--fill-color);\n",
              "      border-top-color: var(--fill-color);\n",
              "    }\n",
              "    60% {\n",
              "      border-color: transparent;\n",
              "      border-right-color: var(--fill-color);\n",
              "    }\n",
              "    80% {\n",
              "      border-color: transparent;\n",
              "      border-right-color: var(--fill-color);\n",
              "      border-bottom-color: var(--fill-color);\n",
              "    }\n",
              "    90% {\n",
              "      border-color: transparent;\n",
              "      border-bottom-color: var(--fill-color);\n",
              "    }\n",
              "  }\n",
              "</style>\n",
              "\n",
              "  <script>\n",
              "    async function quickchart(key) {\n",
              "      const quickchartButtonEl =\n",
              "        document.querySelector('#' + key + ' button');\n",
              "      quickchartButtonEl.disabled = true;  // To prevent multiple clicks.\n",
              "      quickchartButtonEl.classList.add('colab-df-spinner');\n",
              "      try {\n",
              "        const charts = await google.colab.kernel.invokeFunction(\n",
              "            'suggestCharts', [key], {});\n",
              "      } catch (error) {\n",
              "        console.error('Error during call to suggestCharts:', error);\n",
              "      }\n",
              "      quickchartButtonEl.classList.remove('colab-df-spinner');\n",
              "      quickchartButtonEl.classList.add('colab-df-quickchart-complete');\n",
              "    }\n",
              "    (() => {\n",
              "      let quickchartButtonEl =\n",
              "        document.querySelector('#df-39510ec8-a362-442c-9048-55618f450564 button');\n",
              "      quickchartButtonEl.style.display =\n",
              "        google.colab.kernel.accessAllowed ? 'block' : 'none';\n",
              "    })();\n",
              "  </script>\n",
              "</div>\n",
              "    </div>\n",
              "  </div>\n"
            ]
          },
          "metadata": {},
          "execution_count": 26
        }
      ]
    },
    {
      "cell_type": "code",
      "source": [
        "X_train = dataset.drop(\"human_evaluation\", axis=1)\n",
        "y_train = dataset[\"human_evaluation\"]"
      ],
      "metadata": {
        "id": "HfAgQT0zHqjL"
      },
      "execution_count": 27,
      "outputs": []
    },
    {
      "cell_type": "markdown",
      "source": [
        "# GloVe"
      ],
      "metadata": {
        "id": "dH97T2fvPhRh"
      }
    },
    {
      "cell_type": "markdown",
      "source": [
        "## Tokenization and Embedding"
      ],
      "metadata": {
        "id": "IglR90zgPjQE"
      }
    },
    {
      "cell_type": "code",
      "source": [
        "embeddings_index = {}\n",
        "\n",
        "with open(GLOVE_S50, encoding='utf8') as glove_file:\n",
        "  for line in glove_file:\n",
        "    try:\n",
        "      records = line.split()\n",
        "      word = records[0]\n",
        "      vector_dimensions = np.asarray(records[1:], dtype='float32')\n",
        "      embeddings_index[word] = vector_dimensions\n",
        "    except:\n",
        "      print(records)"
      ],
      "metadata": {
        "id": "N9ktsERhPQna"
      },
      "execution_count": 28,
      "outputs": []
    },
    {
      "cell_type": "code",
      "source": [
        "text_vectorization = keras.layers.TextVectorization(\n",
        "    max_tokens=MAX_TOKENS,\n",
        "    output_mode='int',\n",
        "    output_sequence_length=MAX_LENGTH\n",
        ")\n",
        "\n",
        "text_vectorization.adapt(X_train[\"input\"])"
      ],
      "metadata": {
        "id": "CIx1xPwqPrv3"
      },
      "execution_count": 29,
      "outputs": []
    },
    {
      "cell_type": "code",
      "source": [
        "text_vectorization_layer_model = tf.keras.models.Sequential()\n",
        "text_vectorization_layer_model.add(tf.keras.Input(shape=(1,), dtype=tf.string))\n",
        "text_vectorization_layer_model.add(text_vectorization)\n",
        "text_vectorization_layer_model.summary()\n",
        "text_vectorization_layer_model.save(\"glove_text_vec_layer_model.keras\")"
      ],
      "metadata": {
        "colab": {
          "base_uri": "https://localhost:8080/"
        },
        "id": "fv7A283AbGE5",
        "outputId": "963b35f9-eef0-4997-aeec-06ec4f793a75"
      },
      "execution_count": 30,
      "outputs": [
        {
          "output_type": "stream",
          "name": "stdout",
          "text": [
            "Model: \"sequential\"\n",
            "_________________________________________________________________\n",
            " Layer (type)                Output Shape              Param #   \n",
            "=================================================================\n",
            " text_vectorization (TextVe  (None, 30)                0         \n",
            " ctorization)                                                    \n",
            "                                                                 \n",
            "=================================================================\n",
            "Total params: 0 (0.00 Byte)\n",
            "Trainable params: 0 (0.00 Byte)\n",
            "Non-trainable params: 0 (0.00 Byte)\n",
            "_________________________________________________________________\n"
          ]
        }
      ]
    },
    {
      "cell_type": "code",
      "source": [
        "vocabulary = text_vectorization.get_vocabulary()\n",
        "word_index = dict(zip(vocabulary, range(len(vocabulary))))\n",
        "\n",
        "embedding_matrix = np.zeros((MAX_TOKENS, EMBEDDING_DIM))\n",
        "for word, i in word_index.items():\n",
        "  if i < MAX_TOKENS:\n",
        "    embedding_vector = embeddings_index.get(word)\n",
        "  if embedding_vector is not None and embedding_vector.shape[0] != 51:\n",
        "    embedding_matrix[i] = embedding_vector"
      ],
      "metadata": {
        "id": "J8VBKiYPQCnM"
      },
      "execution_count": 31,
      "outputs": []
    },
    {
      "cell_type": "markdown",
      "source": [
        "## Training"
      ],
      "metadata": {
        "id": "vFZM39tBNA4L"
      }
    },
    {
      "cell_type": "code",
      "source": [
        "def build_model():\n",
        "    embedding_layer = keras.layers.Embedding(\n",
        "        MAX_TOKENS,\n",
        "        EMBEDDING_DIM,\n",
        "        embeddings_initializer=keras.initializers.Constant(embedding_matrix),\n",
        "        trainable=False,\n",
        "        mask_zero=True\n",
        "    )\n",
        "    inputs = keras.Input(shape=(MAX_LENGTH,), dtype='int32')\n",
        "    embedded = embedding_layer(inputs)\n",
        "    x = keras.layers.Bidirectional(keras.layers.LSTM(32))(embedded)\n",
        "    x = keras.layers.Dropout(0.2)(x)\n",
        "    x = keras.layers.Dense(64, activation='relu')(x)\n",
        "    x = keras.layers.Dropout(0.2)(x)\n",
        "    outputs = keras.layers.Dense(6, activation='softmax')(x)\n",
        "    model = keras.Model(inputs, outputs)\n",
        "    model.compile(\n",
        "        optimizer=keras.optimizers.Adam(),\n",
        "        loss='sparse_categorical_crossentropy',\n",
        "        metrics=['accuracy']\n",
        "    )\n",
        "    model.summary()\n",
        "    return model"
      ],
      "metadata": {
        "id": "NsvvRZ4pG26h"
      },
      "execution_count": 32,
      "outputs": []
    },
    {
      "cell_type": "code",
      "source": [
        "callbacks = [\n",
        "  keras.callbacks.ModelCheckpoint(\"glove_oq_scorer_model.keras\", save_best_only=True)\n",
        "]\n",
        "\n",
        "int_train_ds = text_vectorization(X_train['input'])\n",
        "train_targets = tf.convert_to_tensor(y_train)\n",
        "\n",
        "int_test_ds = text_vectorization(X_test['input'])\n",
        "test_targets = tf.convert_to_tensor(y_test)\n",
        "\n",
        "model = build_model()\n",
        "model.fit(x=int_train_ds, y=train_targets, validation_split=VAL_SIZE, batch_size=BATCH_SIZE, epochs=EPOCHS, callbacks=callbacks)"
      ],
      "metadata": {
        "colab": {
          "base_uri": "https://localhost:8080/"
        },
        "id": "VEtGRZXQHJGQ",
        "outputId": "e11dc408-dfdd-4f99-e9da-bbe45109bcdf"
      },
      "execution_count": 33,
      "outputs": [
        {
          "output_type": "stream",
          "name": "stdout",
          "text": [
            "Model: \"model\"\n",
            "_________________________________________________________________\n",
            " Layer (type)                Output Shape              Param #   \n",
            "=================================================================\n",
            " input_2 (InputLayer)        [(None, 30)]              0         \n",
            "                                                                 \n",
            " embedding (Embedding)       (None, 30, 50)            1000000   \n",
            "                                                                 \n",
            " bidirectional (Bidirection  (None, 64)                21248     \n",
            " al)                                                             \n",
            "                                                                 \n",
            " dropout (Dropout)           (None, 64)                0         \n",
            "                                                                 \n",
            " dense (Dense)               (None, 64)                4160      \n",
            "                                                                 \n",
            " dropout_1 (Dropout)         (None, 64)                0         \n",
            "                                                                 \n",
            " dense_1 (Dense)             (None, 6)                 390       \n",
            "                                                                 \n",
            "=================================================================\n",
            "Total params: 1025798 (3.91 MB)\n",
            "Trainable params: 25798 (100.77 KB)\n",
            "Non-trainable params: 1000000 (3.81 MB)\n",
            "_________________________________________________________________\n",
            "Epoch 1/11\n",
            "44/44 [==============================] - 36s 285ms/step - loss: 1.6863 - accuracy: 0.2855 - val_loss: 1.4676 - val_accuracy: 0.4164\n",
            "Epoch 2/11\n",
            "44/44 [==============================] - 9s 201ms/step - loss: 1.3347 - accuracy: 0.4264 - val_loss: 1.1728 - val_accuracy: 0.4750\n",
            "Epoch 3/11\n",
            "44/44 [==============================] - 8s 177ms/step - loss: 1.1396 - accuracy: 0.4923 - val_loss: 1.0560 - val_accuracy: 0.5496\n",
            "Epoch 4/11\n",
            "44/44 [==============================] - 9s 198ms/step - loss: 1.0221 - accuracy: 0.5470 - val_loss: 0.9701 - val_accuracy: 0.5684\n",
            "Epoch 5/11\n",
            "44/44 [==============================] - 8s 188ms/step - loss: 0.9452 - accuracy: 0.5821 - val_loss: 0.9053 - val_accuracy: 0.5974\n",
            "Epoch 6/11\n",
            "44/44 [==============================] - 8s 185ms/step - loss: 0.8785 - accuracy: 0.6135 - val_loss: 0.8516 - val_accuracy: 0.6271\n",
            "Epoch 7/11\n",
            "44/44 [==============================] - 8s 195ms/step - loss: 0.8290 - accuracy: 0.6352 - val_loss: 0.8008 - val_accuracy: 0.6734\n",
            "Epoch 8/11\n",
            "44/44 [==============================] - 8s 174ms/step - loss: 0.7702 - accuracy: 0.6783 - val_loss: 0.7529 - val_accuracy: 0.6857\n",
            "Epoch 9/11\n",
            "44/44 [==============================] - 9s 200ms/step - loss: 0.7210 - accuracy: 0.7001 - val_loss: 0.7009 - val_accuracy: 0.7205\n",
            "Epoch 10/11\n",
            "44/44 [==============================] - 9s 202ms/step - loss: 0.6683 - accuracy: 0.7250 - val_loss: 0.6651 - val_accuracy: 0.7379\n",
            "Epoch 11/11\n",
            "44/44 [==============================] - 8s 185ms/step - loss: 0.6261 - accuracy: 0.7500 - val_loss: 0.6182 - val_accuracy: 0.7502\n"
          ]
        },
        {
          "output_type": "execute_result",
          "data": {
            "text/plain": [
              "<keras.src.callbacks.History at 0x79e0c41a3040>"
            ]
          },
          "metadata": {},
          "execution_count": 33
        }
      ]
    },
    {
      "cell_type": "code",
      "source": [
        "y_pred = model.predict(int_test_ds)\n",
        "y_pred = np.argmax(y_pred, axis=1)\n",
        "cohen_kappa_score(y_test, y_pred)"
      ],
      "metadata": {
        "colab": {
          "base_uri": "https://localhost:8080/"
        },
        "id": "ncomG5vdKLO7",
        "outputId": "6d769cc6-5089-43f2-b934-b25760b06be8"
      },
      "execution_count": 34,
      "outputs": [
        {
          "output_type": "stream",
          "name": "stdout",
          "text": [
            "16/16 [==============================] - 2s 4ms/step\n"
          ]
        },
        {
          "output_type": "execute_result",
          "data": {
            "text/plain": [
              "0.2708715445008908"
            ]
          },
          "metadata": {},
          "execution_count": 34
        }
      ]
    },
    {
      "cell_type": "code",
      "source": [
        "y_pred = model.predict(int_test_ds)\n",
        "y_pred = np.argmax(y_pred, axis=1)\n",
        "report = classification_report(y_test, y_pred)\n",
        "print(report)"
      ],
      "metadata": {
        "id": "thtYLIPgr5kJ",
        "outputId": "095c9e93-a1a4-4c41-bb17-befc1fd5e4cf",
        "colab": {
          "base_uri": "https://localhost:8080/"
        }
      },
      "execution_count": 35,
      "outputs": [
        {
          "output_type": "stream",
          "name": "stdout",
          "text": [
            "16/16 [==============================] - 0s 4ms/step\n",
            "              precision    recall  f1-score   support\n",
            "\n",
            "           0       0.71      1.00      0.83         5\n",
            "           1       1.00      0.40      0.57         5\n",
            "           2       0.26      0.34      0.30        29\n",
            "           3       0.27      0.45      0.34        58\n",
            "           4       0.27      0.39      0.32        82\n",
            "           5       0.82      0.61      0.70       310\n",
            "\n",
            "    accuracy                           0.54       489\n",
            "   macro avg       0.56      0.53      0.51       489\n",
            "weighted avg       0.63      0.54      0.57       489\n",
            "\n"
          ]
        }
      ]
    },
    {
      "cell_type": "markdown",
      "source": [
        "# FastText"
      ],
      "metadata": {
        "id": "qr6U1NMyNF08"
      }
    },
    {
      "cell_type": "markdown",
      "source": [
        "## Tokenization and Embedding"
      ],
      "metadata": {
        "id": "E1f7meDEiX87"
      }
    },
    {
      "cell_type": "code",
      "source": [
        "embeddings_index = {}\n",
        "\n",
        "with open(FASTTEXT_S50, encoding='utf8') as glove_file:\n",
        "  for line in glove_file:\n",
        "    try:\n",
        "      records = line.split()\n",
        "      word = records[0]\n",
        "      vector_dimensions = np.asarray(records[1:], dtype='float32')\n",
        "      embeddings_index[word] = vector_dimensions\n",
        "    except:\n",
        "      print(records)"
      ],
      "metadata": {
        "id": "ioyk-2FdC9Sc"
      },
      "execution_count": 36,
      "outputs": []
    },
    {
      "cell_type": "code",
      "source": [
        "text_vectorization = keras.layers.TextVectorization(\n",
        "    max_tokens=MAX_TOKENS,\n",
        "    output_mode='int',\n",
        "    output_sequence_length=MAX_LENGTH\n",
        ")\n",
        "\n",
        "text_vectorization.adapt(X_train[\"input\"])"
      ],
      "metadata": {
        "id": "zXzGBhZBONgQ"
      },
      "execution_count": 37,
      "outputs": []
    },
    {
      "cell_type": "code",
      "source": [
        "text_vectorization_layer_model = tf.keras.models.Sequential()\n",
        "text_vectorization_layer_model.add(tf.keras.Input(shape=(1,), dtype=tf.string))\n",
        "text_vectorization_layer_model.add(text_vectorization)\n",
        "text_vectorization_layer_model.summary()\n",
        "text_vectorization_layer_model.save(\"fasttext_text_vec_layer_model.keras\")"
      ],
      "metadata": {
        "colab": {
          "base_uri": "https://localhost:8080/"
        },
        "id": "kSs0n7-sffl_",
        "outputId": "3d284c8f-d57e-47df-f9bf-849acbf88b5a"
      },
      "execution_count": 38,
      "outputs": [
        {
          "output_type": "stream",
          "name": "stdout",
          "text": [
            "Model: \"sequential_1\"\n",
            "_________________________________________________________________\n",
            " Layer (type)                Output Shape              Param #   \n",
            "=================================================================\n",
            " text_vectorization_1 (Text  (None, 30)                0         \n",
            " Vectorization)                                                  \n",
            "                                                                 \n",
            "=================================================================\n",
            "Total params: 0 (0.00 Byte)\n",
            "Trainable params: 0 (0.00 Byte)\n",
            "Non-trainable params: 0 (0.00 Byte)\n",
            "_________________________________________________________________\n"
          ]
        }
      ]
    },
    {
      "cell_type": "code",
      "source": [
        "vocabulary = text_vectorization.get_vocabulary()\n",
        "word_index = dict(zip(vocabulary, range(len(vocabulary))))\n",
        "\n",
        "embedding_matrix = np.zeros((MAX_TOKENS, EMBEDDING_DIM))\n",
        "for word, i in word_index.items():\n",
        "  if i < MAX_TOKENS:\n",
        "    embedding_vector = embeddings_index.get(word)\n",
        "  if embedding_vector is not None and embedding_vector.shape[0] != 51:\n",
        "    embedding_matrix[i] = embedding_vector"
      ],
      "metadata": {
        "id": "ddd1SVtROOnw"
      },
      "execution_count": 39,
      "outputs": []
    },
    {
      "cell_type": "markdown",
      "source": [
        "## Training"
      ],
      "metadata": {
        "id": "8g575xSAib-8"
      }
    },
    {
      "cell_type": "code",
      "source": [
        "callbacks = [\n",
        "  keras.callbacks.ModelCheckpoint(\"fasttext_oq_scorer_model.keras\", save_best_only=True)\n",
        "]\n",
        "\n",
        "int_train_ds = text_vectorization(X_train['input'])\n",
        "train_targets = tf.convert_to_tensor(y_train)\n",
        "\n",
        "int_test_ds = text_vectorization(X_test['input'])\n",
        "test_targets = tf.convert_to_tensor(y_test)\n",
        "\n",
        "model = build_model()\n",
        "model.fit(x=int_train_ds, y=train_targets, validation_split=VAL_SIZE, batch_size=BATCH_SIZE, epochs=EPOCHS, callbacks=callbacks)"
      ],
      "metadata": {
        "id": "OBM1Gis-OYlD",
        "outputId": "64bead4d-b97f-4cbb-fef9-a607348c0700",
        "colab": {
          "base_uri": "https://localhost:8080/"
        }
      },
      "execution_count": 40,
      "outputs": [
        {
          "output_type": "stream",
          "name": "stdout",
          "text": [
            "Model: \"model_1\"\n",
            "_________________________________________________________________\n",
            " Layer (type)                Output Shape              Param #   \n",
            "=================================================================\n",
            " input_4 (InputLayer)        [(None, 30)]              0         \n",
            "                                                                 \n",
            " embedding_1 (Embedding)     (None, 30, 50)            1000000   \n",
            "                                                                 \n",
            " bidirectional_1 (Bidirecti  (None, 64)                21248     \n",
            " onal)                                                           \n",
            "                                                                 \n",
            " dropout_2 (Dropout)         (None, 64)                0         \n",
            "                                                                 \n",
            " dense_2 (Dense)             (None, 64)                4160      \n",
            "                                                                 \n",
            " dropout_3 (Dropout)         (None, 64)                0         \n",
            "                                                                 \n",
            " dense_3 (Dense)             (None, 6)                 390       \n",
            "                                                                 \n",
            "=================================================================\n",
            "Total params: 1025798 (3.91 MB)\n",
            "Trainable params: 25798 (100.77 KB)\n",
            "Non-trainable params: 1000000 (3.81 MB)\n",
            "_________________________________________________________________\n",
            "Epoch 1/11\n",
            "44/44 [==============================] - 20s 261ms/step - loss: 1.7557 - accuracy: 0.2329 - val_loss: 1.6649 - val_accuracy: 0.3063\n",
            "Epoch 2/11\n",
            "44/44 [==============================] - 8s 193ms/step - loss: 1.5492 - accuracy: 0.3646 - val_loss: 1.4014 - val_accuracy: 0.4070\n",
            "Epoch 3/11\n",
            "44/44 [==============================] - 9s 203ms/step - loss: 1.3434 - accuracy: 0.4175 - val_loss: 1.2564 - val_accuracy: 0.4627\n",
            "Epoch 4/11\n",
            "44/44 [==============================] - 8s 191ms/step - loss: 1.2061 - accuracy: 0.4657 - val_loss: 1.1625 - val_accuracy: 0.4830\n",
            "Epoch 5/11\n",
            "44/44 [==============================] - 8s 180ms/step - loss: 1.1431 - accuracy: 0.4948 - val_loss: 1.0982 - val_accuracy: 0.5047\n",
            "Epoch 6/11\n",
            "44/44 [==============================] - 9s 199ms/step - loss: 1.0907 - accuracy: 0.5046 - val_loss: 1.0697 - val_accuracy: 0.5062\n",
            "Epoch 7/11\n",
            "44/44 [==============================] - 7s 172ms/step - loss: 1.0546 - accuracy: 0.5258 - val_loss: 1.0387 - val_accuracy: 0.5525\n",
            "Epoch 8/11\n",
            "44/44 [==============================] - 9s 211ms/step - loss: 1.0225 - accuracy: 0.5439 - val_loss: 1.0083 - val_accuracy: 0.5525\n",
            "Epoch 9/11\n",
            "44/44 [==============================] - 1s 13ms/step - loss: 1.0093 - accuracy: 0.5533 - val_loss: 1.0206 - val_accuracy: 0.5387\n",
            "Epoch 10/11\n",
            "44/44 [==============================] - 9s 201ms/step - loss: 0.9774 - accuracy: 0.5620 - val_loss: 0.9637 - val_accuracy: 0.5786\n",
            "Epoch 11/11\n",
            "44/44 [==============================] - 7s 170ms/step - loss: 0.9476 - accuracy: 0.5740 - val_loss: 0.9421 - val_accuracy: 0.5844\n"
          ]
        },
        {
          "output_type": "execute_result",
          "data": {
            "text/plain": [
              "<keras.src.callbacks.History at 0x79e0b33c58d0>"
            ]
          },
          "metadata": {},
          "execution_count": 40
        }
      ]
    },
    {
      "cell_type": "code",
      "source": [
        "y_pred = model.predict(int_test_ds)\n",
        "y_pred = np.argmax(y_pred, axis=1)\n",
        "cohen_kappa_score(y_test, y_pred)"
      ],
      "metadata": {
        "id": "_ZqO3xczOxuu",
        "outputId": "11f0f8b1-7a90-430e-e6a1-ac13be2d30e5",
        "colab": {
          "base_uri": "https://localhost:8080/"
        }
      },
      "execution_count": 41,
      "outputs": [
        {
          "output_type": "stream",
          "name": "stdout",
          "text": [
            "16/16 [==============================] - 2s 4ms/step\n"
          ]
        },
        {
          "output_type": "execute_result",
          "data": {
            "text/plain": [
              "0.07330002242080658"
            ]
          },
          "metadata": {},
          "execution_count": 41
        }
      ]
    },
    {
      "cell_type": "code",
      "source": [
        "y_pred = model.predict(int_test_ds)\n",
        "y_pred = np.argmax(y_pred, axis=1)\n",
        "report = classification_report(y_test, y_pred)\n",
        "print(report)"
      ],
      "metadata": {
        "id": "nnqB6eeesHk0",
        "outputId": "cbb029b1-940e-49b8-f84e-7c959acd4b75",
        "colab": {
          "base_uri": "https://localhost:8080/"
        }
      },
      "execution_count": 42,
      "outputs": [
        {
          "output_type": "stream",
          "name": "stdout",
          "text": [
            "16/16 [==============================] - 0s 4ms/step\n",
            "              precision    recall  f1-score   support\n",
            "\n",
            "           0       0.33      0.80      0.47         5\n",
            "           1       0.15      0.40      0.22         5\n",
            "           2       0.13      0.48      0.20        29\n",
            "           3       0.14      0.17      0.15        58\n",
            "           4       0.19      0.43      0.26        82\n",
            "           5       0.74      0.22      0.34       310\n",
            "\n",
            "    accuracy                           0.27       489\n",
            "   macro avg       0.28      0.42      0.27       489\n",
            "weighted avg       0.53      0.27      0.30       489\n",
            "\n"
          ]
        }
      ]
    }
  ]
}