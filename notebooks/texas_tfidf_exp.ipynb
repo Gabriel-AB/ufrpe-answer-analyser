{
 "cells": [
  {
   "cell_type": "markdown",
   "metadata": {},
   "source": [
    "## Setup"
   ]
  },
  {
   "cell_type": "code",
   "execution_count": 1,
   "metadata": {
    "tags": [
     "parameters"
    ]
   },
   "outputs": [],
   "source": [
    "IMAGE_DIR = \"../images/\"\n",
    "SEED = 42\n",
    "N_SPLITS = 10\n",
    "TEST_SIZE = 0.2\n",
    "CV = 2\n",
    "QUESTION_ANSWER = False\n",
    "DATASET = \"../data/texas_dataset.xlsx\""
   ]
  },
  {
   "cell_type": "code",
   "execution_count": 2,
   "metadata": {},
   "outputs": [],
   "source": [
    "from pathlib import Path\n",
    "\n",
    "IMAGE_DIR = Path(IMAGE_DIR)"
   ]
  },
  {
   "cell_type": "code",
   "execution_count": 3,
   "metadata": {},
   "outputs": [
    {
     "name": "stdout",
     "output_type": "stream",
     "text": [
      "3.10.13 (main, Sep 11 2023, 13:44:35) [GCC 11.2.0]\n"
     ]
    }
   ],
   "source": [
    "import sys\n",
    "sys.path.append(\"../\")\n",
    "print(sys.version)\n",
    "\n",
    "import spacy\n",
    "import pandas as pd\n",
    "import seaborn as sns\n",
    "import numpy as np\n",
    "import matplotlib.pyplot as plt\n",
    "import warnings\n",
    "from sklearn.model_selection import StratifiedShuffleSplit, cross_val_predict, train_test_split\n",
    "from sklearn.feature_extraction.text import TfidfVectorizer\n",
    "from sklearn.svm import SVR\n",
    "from sklearn.ensemble import RandomForestClassifier\n",
    "from sklearn.tree import DecisionTreeClassifier\n",
    "from sklearn.metrics import classification_report, cohen_kappa_score\n",
    "from sklearn.multiclass import OneVsRestClassifier, OneVsOneClassifier\n",
    "from sklearn.pipeline import Pipeline\n",
    "from tqdm.notebook import tqdm_notebook\n",
    "from xgboost import XGBClassifier"
   ]
  },
  {
   "cell_type": "code",
   "execution_count": 4,
   "metadata": {},
   "outputs": [],
   "source": [
    "warnings.filterwarnings('always')\n",
    "np.random.seed(seed=SEED)"
   ]
  },
  {
   "cell_type": "markdown",
   "metadata": {},
   "source": [
    "## Data Analysis"
   ]
  },
  {
   "cell_type": "code",
   "execution_count": 5,
   "metadata": {},
   "outputs": [
    {
     "data": {
      "text/html": [
       "<div>\n",
       "<style scoped>\n",
       "    .dataframe tbody tr th:only-of-type {\n",
       "        vertical-align: middle;\n",
       "    }\n",
       "\n",
       "    .dataframe tbody tr th {\n",
       "        vertical-align: top;\n",
       "    }\n",
       "\n",
       "    .dataframe thead th {\n",
       "        text-align: right;\n",
       "    }\n",
       "</style>\n",
       "<table border=\"1\" class=\"dataframe\">\n",
       "  <thead>\n",
       "    <tr style=\"text-align: right;\">\n",
       "      <th></th>\n",
       "      <th>ID</th>\n",
       "      <th>question_id</th>\n",
       "      <th>question</th>\n",
       "      <th>Instructor answers</th>\n",
       "      <th>answer</th>\n",
       "      <th>score</th>\n",
       "      <th>human_evaluation</th>\n",
       "    </tr>\n",
       "  </thead>\n",
       "  <tbody>\n",
       "    <tr>\n",
       "      <th>0</th>\n",
       "      <td>1</td>\n",
       "      <td>2023-01-01</td>\n",
       "      <td>What is the role of a prototype program in pr...</td>\n",
       "      <td>To simulate the behaviour of portions of the ...</td>\n",
       "      <td>High risk problems are address in the prototy...</td>\n",
       "      <td>3.5</td>\n",
       "      <td>4</td>\n",
       "    </tr>\n",
       "    <tr>\n",
       "      <th>1</th>\n",
       "      <td>2</td>\n",
       "      <td>2023-01-01</td>\n",
       "      <td>What is the role of a prototype program in pr...</td>\n",
       "      <td>To simulate the behaviour of portions of the ...</td>\n",
       "      <td>To simulate portions of the desired final pro...</td>\n",
       "      <td>5.0</td>\n",
       "      <td>5</td>\n",
       "    </tr>\n",
       "    <tr>\n",
       "      <th>2</th>\n",
       "      <td>3</td>\n",
       "      <td>2023-01-01</td>\n",
       "      <td>What is the role of a prototype program in pr...</td>\n",
       "      <td>To simulate the behaviour of portions of the ...</td>\n",
       "      <td>A prototype program simulates the behaviors o...</td>\n",
       "      <td>4.0</td>\n",
       "      <td>4</td>\n",
       "    </tr>\n",
       "    <tr>\n",
       "      <th>3</th>\n",
       "      <td>4</td>\n",
       "      <td>2023-01-01</td>\n",
       "      <td>What is the role of a prototype program in pr...</td>\n",
       "      <td>To simulate the behaviour of portions of the ...</td>\n",
       "      <td>Defined in the Specification phase a prototyp...</td>\n",
       "      <td>5.0</td>\n",
       "      <td>5</td>\n",
       "    </tr>\n",
       "    <tr>\n",
       "      <th>4</th>\n",
       "      <td>5</td>\n",
       "      <td>2023-01-01</td>\n",
       "      <td>What is the role of a prototype program in pr...</td>\n",
       "      <td>To simulate the behaviour of portions of the ...</td>\n",
       "      <td>It is used to let the users have a first idea...</td>\n",
       "      <td>3.0</td>\n",
       "      <td>3</td>\n",
       "    </tr>\n",
       "  </tbody>\n",
       "</table>\n",
       "</div>"
      ],
      "text/plain": [
       "   ID question_id                                           question  \\\n",
       "0   1  2023-01-01   What is the role of a prototype program in pr...   \n",
       "1   2  2023-01-01   What is the role of a prototype program in pr...   \n",
       "2   3  2023-01-01   What is the role of a prototype program in pr...   \n",
       "3   4  2023-01-01   What is the role of a prototype program in pr...   \n",
       "4   5  2023-01-01   What is the role of a prototype program in pr...   \n",
       "\n",
       "                                  Instructor answers  \\\n",
       "0   To simulate the behaviour of portions of the ...   \n",
       "1   To simulate the behaviour of portions of the ...   \n",
       "2   To simulate the behaviour of portions of the ...   \n",
       "3   To simulate the behaviour of portions of the ...   \n",
       "4   To simulate the behaviour of portions of the ...   \n",
       "\n",
       "                                              answer  score  human_evaluation  \n",
       "0   High risk problems are address in the prototy...    3.5                 4  \n",
       "1   To simulate portions of the desired final pro...    5.0                 5  \n",
       "2   A prototype program simulates the behaviors o...    4.0                 4  \n",
       "3   Defined in the Specification phase a prototyp...    5.0                 5  \n",
       "4   It is used to let the users have a first idea...    3.0                 3  "
      ]
     },
     "execution_count": 5,
     "metadata": {},
     "output_type": "execute_result"
    }
   ],
   "source": [
    "columns_dict = {\n",
    "  \"Topic\": \"topic\",\n",
    "  \"Human Evaluation\": \"human_evaluation\",\n",
    "  \"Round_score\": \"human_evaluation\",\n",
    "  \"Question\": \"question\",\n",
    "  \"Student Answer\": \"answer\",\n",
    "  \"Question_ID\": \"question_id\",\n",
    "  \"Score\": \"score\"\n",
    "}\n",
    "dataset = pd.read_excel(DATASET)\n",
    "dataset.rename(columns=columns_dict, inplace=True)\n",
    "dataset.head()"
   ]
  },
  {
   "cell_type": "code",
   "execution_count": 6,
   "metadata": {},
   "outputs": [
    {
     "data": {
      "text/plain": [
       "(1953, 489, 1953, 489)"
      ]
     },
     "execution_count": 6,
     "metadata": {},
     "output_type": "execute_result"
    }
   ],
   "source": [
    "X = dataset.drop(\"human_evaluation\", axis=1)\n",
    "y = dataset[\"human_evaluation\"]\n",
    "\n",
    "X_train, X_test, y_train, y_test = train_test_split(X, y, test_size=TEST_SIZE, shuffle=True, random_state=SEED)\n",
    "len(X_train), len(X_test), len(y_train), len(y_test)"
   ]
  },
  {
   "cell_type": "code",
   "execution_count": 7,
   "metadata": {},
   "outputs": [
    {
     "data": {
      "text/html": [
       "<div>\n",
       "<style scoped>\n",
       "    .dataframe tbody tr th:only-of-type {\n",
       "        vertical-align: middle;\n",
       "    }\n",
       "\n",
       "    .dataframe tbody tr th {\n",
       "        vertical-align: top;\n",
       "    }\n",
       "\n",
       "    .dataframe thead th {\n",
       "        text-align: right;\n",
       "    }\n",
       "</style>\n",
       "<table border=\"1\" class=\"dataframe\">\n",
       "  <thead>\n",
       "    <tr style=\"text-align: right;\">\n",
       "      <th></th>\n",
       "      <th>ID</th>\n",
       "      <th>question_id</th>\n",
       "      <th>question</th>\n",
       "      <th>Instructor answers</th>\n",
       "      <th>answer</th>\n",
       "      <th>score</th>\n",
       "      <th>human_evaluation</th>\n",
       "    </tr>\n",
       "  </thead>\n",
       "  <tbody>\n",
       "    <tr>\n",
       "      <th>869</th>\n",
       "      <td>870</td>\n",
       "      <td>2023-02-05</td>\n",
       "      <td>In one sentence, what is the main idea impleme...</td>\n",
       "      <td>Taking one array element at a time, from left ...</td>\n",
       "      <td>Selection sort searches the whole array for th...</td>\n",
       "      <td>4.5</td>\n",
       "      <td>5</td>\n",
       "    </tr>\n",
       "    <tr>\n",
       "      <th>307</th>\n",
       "      <td>308</td>\n",
       "      <td>2023-04-02</td>\n",
       "      <td>When does C++ create a default constructor?</td>\n",
       "      <td>If no constructor is provided, the compiler pr...</td>\n",
       "      <td>When no constructor was specified in the const...</td>\n",
       "      <td>5.0</td>\n",
       "      <td>5</td>\n",
       "    </tr>\n",
       "    <tr>\n",
       "      <th>1700</th>\n",
       "      <td>1701</td>\n",
       "      <td>2023-01-10</td>\n",
       "      <td>What is a tree?</td>\n",
       "      <td>A collection of nodes, which has a special nod...</td>\n",
       "      <td>an infinite set of nodes that have a root and ...</td>\n",
       "      <td>3.5</td>\n",
       "      <td>4</td>\n",
       "    </tr>\n",
       "    <tr>\n",
       "      <th>582</th>\n",
       "      <td>583</td>\n",
       "      <td>2023-06-03</td>\n",
       "      <td>When defining a recursive function, what are p...</td>\n",
       "      <td>If the recursion step is defined incorrectly, ...</td>\n",
       "      <td>No base case, or an incorrectly written recurs...</td>\n",
       "      <td>5.0</td>\n",
       "      <td>5</td>\n",
       "    </tr>\n",
       "    <tr>\n",
       "      <th>383</th>\n",
       "      <td>384</td>\n",
       "      <td>2023-07-02</td>\n",
       "      <td>What is the role of a header-file?</td>\n",
       "      <td>To store a class interface, including data mem...</td>\n",
       "      <td>the role of a header file list all the functio...</td>\n",
       "      <td>4.5</td>\n",
       "      <td>5</td>\n",
       "    </tr>\n",
       "  </tbody>\n",
       "</table>\n",
       "</div>"
      ],
      "text/plain": [
       "        ID question_id                                           question  \\\n",
       "869    870  2023-02-05  In one sentence, what is the main idea impleme...   \n",
       "307    308  2023-04-02        When does C++ create a default constructor?   \n",
       "1700  1701  2023-01-10                                    What is a tree?   \n",
       "582    583  2023-06-03  When defining a recursive function, what are p...   \n",
       "383    384  2023-07-02                 What is the role of a header-file?   \n",
       "\n",
       "                                     Instructor answers  \\\n",
       "869   Taking one array element at a time, from left ...   \n",
       "307   If no constructor is provided, the compiler pr...   \n",
       "1700  A collection of nodes, which has a special nod...   \n",
       "582   If the recursion step is defined incorrectly, ...   \n",
       "383   To store a class interface, including data mem...   \n",
       "\n",
       "                                                 answer  score  \\\n",
       "869   Selection sort searches the whole array for th...    4.5   \n",
       "307   When no constructor was specified in the const...    5.0   \n",
       "1700  an infinite set of nodes that have a root and ...    3.5   \n",
       "582   No base case, or an incorrectly written recurs...    5.0   \n",
       "383   the role of a header file list all the functio...    4.5   \n",
       "\n",
       "      human_evaluation  \n",
       "869                  5  \n",
       "307                  5  \n",
       "1700                 4  \n",
       "582                  5  \n",
       "383                  5  "
      ]
     },
     "execution_count": 7,
     "metadata": {},
     "output_type": "execute_result"
    }
   ],
   "source": [
    "train_set = pd.concat([X_train, y_train], axis=1)\n",
    "train_set.head()"
   ]
  },
  {
   "cell_type": "markdown",
   "metadata": {},
   "source": [
    "### Dealing with the unbalanced data problem"
   ]
  },
  {
   "cell_type": "code",
   "execution_count": 8,
   "metadata": {},
   "outputs": [
    {
     "data": {
      "text/plain": [
       "6736"
      ]
     },
     "execution_count": 8,
     "metadata": {},
     "output_type": "execute_result"
    }
   ],
   "source": [
    "label_5_ds = train_set[train_set[\"human_evaluation\"] == 5]\n",
    "label_5_ds = pd.concat([label_5_ds] * 1, axis=0, ignore_index=True)\n",
    "\n",
    "label_4_ds = train_set[train_set[\"human_evaluation\"] == 4]\n",
    "label_4_ds = pd.concat([label_4_ds] * 4, axis=0, ignore_index=True)\n",
    "\n",
    "label_3_ds = train_set[train_set[\"human_evaluation\"] == 3]\n",
    "label_3_ds = pd.concat([label_3_ds] * 5, axis=0, ignore_index=True)\n",
    "\n",
    "label_2_ds = train_set[train_set[\"human_evaluation\"] == 2]\n",
    "label_2_ds = pd.concat([label_2_ds] * 10, axis=0, ignore_index=True)\n",
    "\n",
    "label_1_ds = train_set[train_set[\"human_evaluation\"] == 1]\n",
    "label_1_ds = pd.concat([label_1_ds] * 50, axis=0, ignore_index=True)\n",
    "\n",
    "label_0_ds = train_set[train_set[\"human_evaluation\"] == 0]\n",
    "label_0_ds = pd.concat([label_0_ds] * 53, axis=0, ignore_index=True)\n",
    "\n",
    "train_set = pd.concat([label_0_ds, label_1_ds, label_2_ds, label_3_ds, label_4_ds, label_5_ds], axis=0)\n",
    "len(train_set)"
   ]
  },
  {
   "cell_type": "code",
   "execution_count": 9,
   "metadata": {},
   "outputs": [
    {
     "data": {
      "text/html": [
       "<div>\n",
       "<style scoped>\n",
       "    .dataframe tbody tr th:only-of-type {\n",
       "        vertical-align: middle;\n",
       "    }\n",
       "\n",
       "    .dataframe tbody tr th {\n",
       "        vertical-align: top;\n",
       "    }\n",
       "\n",
       "    .dataframe thead th {\n",
       "        text-align: right;\n",
       "    }\n",
       "</style>\n",
       "<table border=\"1\" class=\"dataframe\">\n",
       "  <thead>\n",
       "    <tr style=\"text-align: right;\">\n",
       "      <th></th>\n",
       "      <th>ID</th>\n",
       "      <th>question_id</th>\n",
       "      <th>question</th>\n",
       "      <th>Instructor answers</th>\n",
       "      <th>answer</th>\n",
       "      <th>score</th>\n",
       "      <th>human_evaluation</th>\n",
       "    </tr>\n",
       "  </thead>\n",
       "  <tbody>\n",
       "    <tr>\n",
       "      <th>0</th>\n",
       "      <td>1316</td>\n",
       "      <td>2023-07-07</td>\n",
       "      <td>What is the main disadvantage of a doubly-link...</td>\n",
       "      <td>Extra space required to store the back pointers.</td>\n",
       "      <td>not answered</td>\n",
       "      <td>0.0</td>\n",
       "      <td>0</td>\n",
       "    </tr>\n",
       "    <tr>\n",
       "      <th>1</th>\n",
       "      <td>2093</td>\n",
       "      <td>2023-08-11</td>\n",
       "      <td>What is the main difference between a string o...</td>\n",
       "      <td>The char[] will automatically add a null \\0 ch...</td>\n",
       "      <td>the variable of type char[], each character is...</td>\n",
       "      <td>2.0</td>\n",
       "      <td>2</td>\n",
       "    </tr>\n",
       "    <tr>\n",
       "      <th>2</th>\n",
       "      <td>1603</td>\n",
       "      <td>2023-04-09</td>\n",
       "      <td>How can you implement a queue with a list?</td>\n",
       "      <td>Keep the rear of the queue pointing to the tai...</td>\n",
       "      <td>create a node with the input data, continue to...</td>\n",
       "      <td>4.0</td>\n",
       "      <td>4</td>\n",
       "    </tr>\n",
       "    <tr>\n",
       "      <th>3</th>\n",
       "      <td>204</td>\n",
       "      <td>2023-01-02</td>\n",
       "      <td>What is typically included in a class definition?</td>\n",
       "      <td>Data members (attributes) and member functions.</td>\n",
       "      <td>For us it is usually a set, get, and displayM...</td>\n",
       "      <td>2.0</td>\n",
       "      <td>2</td>\n",
       "    </tr>\n",
       "    <tr>\n",
       "      <th>4</th>\n",
       "      <td>2439</td>\n",
       "      <td>2023-10-12</td>\n",
       "      <td>How many steps does it take to search a node i...</td>\n",
       "      <td>The height of the tree.</td>\n",
       "      <td>( n(n-1) ) / 2&lt;br&gt;&lt;br&gt;</td>\n",
       "      <td>1.5</td>\n",
       "      <td>2</td>\n",
       "    </tr>\n",
       "  </tbody>\n",
       "</table>\n",
       "</div>"
      ],
      "text/plain": [
       "     ID question_id                                           question  \\\n",
       "0  1316  2023-07-07  What is the main disadvantage of a doubly-link...   \n",
       "1  2093  2023-08-11  What is the main difference between a string o...   \n",
       "2  1603  2023-04-09         How can you implement a queue with a list?   \n",
       "3   204  2023-01-02  What is typically included in a class definition?   \n",
       "4  2439  2023-10-12  How many steps does it take to search a node i...   \n",
       "\n",
       "                                  Instructor answers  \\\n",
       "0   Extra space required to store the back pointers.   \n",
       "1  The char[] will automatically add a null \\0 ch...   \n",
       "2  Keep the rear of the queue pointing to the tai...   \n",
       "3    Data members (attributes) and member functions.   \n",
       "4                            The height of the tree.   \n",
       "\n",
       "                                              answer  score  human_evaluation  \n",
       "0                                       not answered    0.0                 0  \n",
       "1  the variable of type char[], each character is...    2.0                 2  \n",
       "2  create a node with the input data, continue to...    4.0                 4  \n",
       "3   For us it is usually a set, get, and displayM...    2.0                 2  \n",
       "4                             ( n(n-1) ) / 2<br><br>    1.5                 2  "
      ]
     },
     "execution_count": 9,
     "metadata": {},
     "output_type": "execute_result"
    }
   ],
   "source": [
    "train_set = train_set.sample(frac=1, random_state=SEED).reset_index(drop=True)\n",
    "train_set.head()"
   ]
  },
  {
   "cell_type": "code",
   "execution_count": 10,
   "metadata": {},
   "outputs": [
    {
     "name": "stdout",
     "output_type": "stream",
     "text": [
      "<class 'pandas.core.frame.DataFrame'>\n",
      "RangeIndex: 6736 entries, 0 to 6735\n",
      "Data columns (total 7 columns):\n",
      " #   Column              Non-Null Count  Dtype         \n",
      "---  ------              --------------  -----         \n",
      " 0   ID                  6736 non-null   int64         \n",
      " 1   question_id         6736 non-null   datetime64[ns]\n",
      " 2   question            6736 non-null   object        \n",
      " 3   Instructor answers  6736 non-null   object        \n",
      " 4   answer              6736 non-null   object        \n",
      " 5   score               6736 non-null   float64       \n",
      " 6   human_evaluation    6736 non-null   int64         \n",
      "dtypes: datetime64[ns](1), float64(1), int64(2), object(3)\n",
      "memory usage: 368.5+ KB\n"
     ]
    }
   ],
   "source": [
    "train_set.info()"
   ]
  },
  {
   "cell_type": "code",
   "execution_count": 11,
   "metadata": {},
   "outputs": [
    {
     "data": {
      "text/html": [
       "<div>\n",
       "<style scoped>\n",
       "    .dataframe tbody tr th:only-of-type {\n",
       "        vertical-align: middle;\n",
       "    }\n",
       "\n",
       "    .dataframe tbody tr th {\n",
       "        vertical-align: top;\n",
       "    }\n",
       "\n",
       "    .dataframe thead th {\n",
       "        text-align: right;\n",
       "    }\n",
       "</style>\n",
       "<table border=\"1\" class=\"dataframe\">\n",
       "  <thead>\n",
       "    <tr style=\"text-align: right;\">\n",
       "      <th></th>\n",
       "      <th>ID</th>\n",
       "      <th>question_id</th>\n",
       "      <th>question</th>\n",
       "      <th>Instructor answers</th>\n",
       "      <th>answer</th>\n",
       "      <th>score</th>\n",
       "      <th>human_evaluation</th>\n",
       "    </tr>\n",
       "  </thead>\n",
       "  <tbody>\n",
       "    <tr>\n",
       "      <th>1322</th>\n",
       "      <td>1323</td>\n",
       "      <td>2023-01-08</td>\n",
       "      <td>What is a stack?</td>\n",
       "      <td>A data structure that can store elements, whic...</td>\n",
       "      <td>A data structure that stores data using LIFO.</td>\n",
       "      <td>5.0</td>\n",
       "      <td>5</td>\n",
       "    </tr>\n",
       "    <tr>\n",
       "      <th>1134</th>\n",
       "      <td>1135</td>\n",
       "      <td>2023-01-07</td>\n",
       "      <td>What is a linked list?</td>\n",
       "      <td>A collection of elements that can be allocated...</td>\n",
       "      <td>Consists of sequence of nodes, each containing...</td>\n",
       "      <td>4.5</td>\n",
       "      <td>5</td>\n",
       "    </tr>\n",
       "    <tr>\n",
       "      <th>1875</th>\n",
       "      <td>1876</td>\n",
       "      <td>2023-01-11</td>\n",
       "      <td>What are the elements typically included in a ...</td>\n",
       "      <td>Function members and data members.</td>\n",
       "      <td>The return value and the accepted value.</td>\n",
       "      <td>1.5</td>\n",
       "      <td>2</td>\n",
       "    </tr>\n",
       "    <tr>\n",
       "      <th>705</th>\n",
       "      <td>706</td>\n",
       "      <td>2023-03-04</td>\n",
       "      <td>How are arrays passed to functions?</td>\n",
       "      <td>by reference.</td>\n",
       "      <td>You pass the name of the array to the function...</td>\n",
       "      <td>5.0</td>\n",
       "      <td>5</td>\n",
       "    </tr>\n",
       "    <tr>\n",
       "      <th>2270</th>\n",
       "      <td>2271</td>\n",
       "      <td>2023-04-12</td>\n",
       "      <td>Briefly, how does selection sort work?</td>\n",
       "      <td>It selects the minimum from an array and place...</td>\n",
       "      <td>It starts at the first element and replaces it...</td>\n",
       "      <td>4.5</td>\n",
       "      <td>5</td>\n",
       "    </tr>\n",
       "  </tbody>\n",
       "</table>\n",
       "</div>"
      ],
      "text/plain": [
       "        ID question_id                                           question  \\\n",
       "1322  1323  2023-01-08                                   What is a stack?   \n",
       "1134  1135  2023-01-07                             What is a linked list?   \n",
       "1875  1876  2023-01-11  What are the elements typically included in a ...   \n",
       "705    706  2023-03-04                How are arrays passed to functions?   \n",
       "2270  2271  2023-04-12             Briefly, how does selection sort work?   \n",
       "\n",
       "                                     Instructor answers  \\\n",
       "1322  A data structure that can store elements, whic...   \n",
       "1134  A collection of elements that can be allocated...   \n",
       "1875                 Function members and data members.   \n",
       "705                                       by reference.   \n",
       "2270  It selects the minimum from an array and place...   \n",
       "\n",
       "                                                 answer  score  \\\n",
       "1322      A data structure that stores data using LIFO.    5.0   \n",
       "1134  Consists of sequence of nodes, each containing...    4.5   \n",
       "1875           The return value and the accepted value.    1.5   \n",
       "705   You pass the name of the array to the function...    5.0   \n",
       "2270  It starts at the first element and replaces it...    4.5   \n",
       "\n",
       "      human_evaluation  \n",
       "1322                 5  \n",
       "1134                 5  \n",
       "1875                 2  \n",
       "705                  5  \n",
       "2270                 5  "
      ]
     },
     "execution_count": 11,
     "metadata": {},
     "output_type": "execute_result"
    }
   ],
   "source": [
    "test_set = pd.concat([X_test, y_test], axis=1)\n",
    "test_set.head()"
   ]
  },
  {
   "cell_type": "code",
   "execution_count": 12,
   "metadata": {},
   "outputs": [
    {
     "name": "stdout",
     "output_type": "stream",
     "text": [
      "<class 'pandas.core.frame.DataFrame'>\n",
      "Index: 489 entries, 1322 to 433\n",
      "Data columns (total 7 columns):\n",
      " #   Column              Non-Null Count  Dtype         \n",
      "---  ------              --------------  -----         \n",
      " 0   ID                  489 non-null    int64         \n",
      " 1   question_id         489 non-null    datetime64[ns]\n",
      " 2   question            489 non-null    object        \n",
      " 3   Instructor answers  489 non-null    object        \n",
      " 4   answer              489 non-null    object        \n",
      " 5   score               489 non-null    float64       \n",
      " 6   human_evaluation    489 non-null    int64         \n",
      "dtypes: datetime64[ns](1), float64(1), int64(2), object(3)\n",
      "memory usage: 30.6+ KB\n"
     ]
    }
   ],
   "source": [
    "test_set.info()"
   ]
  },
  {
   "cell_type": "code",
   "execution_count": 13,
   "metadata": {},
   "outputs": [
    {
     "data": {
      "text/html": [
       "<div>\n",
       "<style scoped>\n",
       "    .dataframe tbody tr th:only-of-type {\n",
       "        vertical-align: middle;\n",
       "    }\n",
       "\n",
       "    .dataframe tbody tr th {\n",
       "        vertical-align: top;\n",
       "    }\n",
       "\n",
       "    .dataframe thead th {\n",
       "        text-align: right;\n",
       "    }\n",
       "</style>\n",
       "<table border=\"1\" class=\"dataframe\">\n",
       "  <thead>\n",
       "    <tr style=\"text-align: right;\">\n",
       "      <th></th>\n",
       "      <th>human_evaluation</th>\n",
       "    </tr>\n",
       "  </thead>\n",
       "  <tbody>\n",
       "    <tr>\n",
       "      <th>count</th>\n",
       "      <td>6736.000000</td>\n",
       "    </tr>\n",
       "    <tr>\n",
       "      <th>mean</th>\n",
       "      <td>2.637173</td>\n",
       "    </tr>\n",
       "    <tr>\n",
       "      <th>std</th>\n",
       "      <td>1.739930</td>\n",
       "    </tr>\n",
       "    <tr>\n",
       "      <th>min</th>\n",
       "      <td>0.000000</td>\n",
       "    </tr>\n",
       "    <tr>\n",
       "      <th>25%</th>\n",
       "      <td>1.000000</td>\n",
       "    </tr>\n",
       "    <tr>\n",
       "      <th>50%</th>\n",
       "      <td>3.000000</td>\n",
       "    </tr>\n",
       "    <tr>\n",
       "      <th>75%</th>\n",
       "      <td>4.000000</td>\n",
       "    </tr>\n",
       "    <tr>\n",
       "      <th>max</th>\n",
       "      <td>5.000000</td>\n",
       "    </tr>\n",
       "  </tbody>\n",
       "</table>\n",
       "</div>"
      ],
      "text/plain": [
       "       human_evaluation\n",
       "count       6736.000000\n",
       "mean           2.637173\n",
       "std            1.739930\n",
       "min            0.000000\n",
       "25%            1.000000\n",
       "50%            3.000000\n",
       "75%            4.000000\n",
       "max            5.000000"
      ]
     },
     "execution_count": 13,
     "metadata": {},
     "output_type": "execute_result"
    }
   ],
   "source": [
    "train_set[['human_evaluation']].describe()"
   ]
  },
  {
   "cell_type": "code",
   "execution_count": 14,
   "metadata": {},
   "outputs": [
    {
     "name": "stdout",
     "output_type": "stream",
     "text": [
      "<class 'pandas.core.frame.DataFrame'>\n",
      "RangeIndex: 6736 entries, 0 to 6735\n",
      "Data columns (total 7 columns):\n",
      " #   Column              Non-Null Count  Dtype         \n",
      "---  ------              --------------  -----         \n",
      " 0   ID                  6736 non-null   int64         \n",
      " 1   question_id         6736 non-null   datetime64[ns]\n",
      " 2   question            6736 non-null   object        \n",
      " 3   Instructor answers  6736 non-null   object        \n",
      " 4   answer              6736 non-null   object        \n",
      " 5   score               6736 non-null   float64       \n",
      " 6   human_evaluation    6736 non-null   int64         \n",
      "dtypes: datetime64[ns](1), float64(1), int64(2), object(3)\n",
      "memory usage: 368.5+ KB\n"
     ]
    }
   ],
   "source": [
    "train_set.dropna(inplace=True)\n",
    "train_set.info()"
   ]
  },
  {
   "cell_type": "code",
   "execution_count": 15,
   "metadata": {},
   "outputs": [
    {
     "data": {
      "text/html": [
       "<div>\n",
       "<style scoped>\n",
       "    .dataframe tbody tr th:only-of-type {\n",
       "        vertical-align: middle;\n",
       "    }\n",
       "\n",
       "    .dataframe tbody tr th {\n",
       "        vertical-align: top;\n",
       "    }\n",
       "\n",
       "    .dataframe thead th {\n",
       "        text-align: right;\n",
       "    }\n",
       "</style>\n",
       "<table border=\"1\" class=\"dataframe\">\n",
       "  <thead>\n",
       "    <tr style=\"text-align: right;\">\n",
       "      <th></th>\n",
       "      <th>human_evaluation</th>\n",
       "    </tr>\n",
       "  </thead>\n",
       "  <tbody>\n",
       "    <tr>\n",
       "      <th>count</th>\n",
       "      <td>489.000000</td>\n",
       "    </tr>\n",
       "    <tr>\n",
       "      <th>mean</th>\n",
       "      <td>4.229039</td>\n",
       "    </tr>\n",
       "    <tr>\n",
       "      <th>std</th>\n",
       "      <td>1.094273</td>\n",
       "    </tr>\n",
       "    <tr>\n",
       "      <th>min</th>\n",
       "      <td>0.000000</td>\n",
       "    </tr>\n",
       "    <tr>\n",
       "      <th>25%</th>\n",
       "      <td>4.000000</td>\n",
       "    </tr>\n",
       "    <tr>\n",
       "      <th>50%</th>\n",
       "      <td>5.000000</td>\n",
       "    </tr>\n",
       "    <tr>\n",
       "      <th>75%</th>\n",
       "      <td>5.000000</td>\n",
       "    </tr>\n",
       "    <tr>\n",
       "      <th>max</th>\n",
       "      <td>5.000000</td>\n",
       "    </tr>\n",
       "  </tbody>\n",
       "</table>\n",
       "</div>"
      ],
      "text/plain": [
       "       human_evaluation\n",
       "count        489.000000\n",
       "mean           4.229039\n",
       "std            1.094273\n",
       "min            0.000000\n",
       "25%            4.000000\n",
       "50%            5.000000\n",
       "75%            5.000000\n",
       "max            5.000000"
      ]
     },
     "execution_count": 15,
     "metadata": {},
     "output_type": "execute_result"
    }
   ],
   "source": [
    "test_set[['human_evaluation']].describe()"
   ]
  },
  {
   "cell_type": "code",
   "execution_count": 16,
   "metadata": {},
   "outputs": [
    {
     "name": "stdout",
     "output_type": "stream",
     "text": [
      "<class 'pandas.core.frame.DataFrame'>\n",
      "Index: 489 entries, 1322 to 433\n",
      "Data columns (total 7 columns):\n",
      " #   Column              Non-Null Count  Dtype         \n",
      "---  ------              --------------  -----         \n",
      " 0   ID                  489 non-null    int64         \n",
      " 1   question_id         489 non-null    datetime64[ns]\n",
      " 2   question            489 non-null    object        \n",
      " 3   Instructor answers  489 non-null    object        \n",
      " 4   answer              489 non-null    object        \n",
      " 5   score               489 non-null    float64       \n",
      " 6   human_evaluation    489 non-null    int64         \n",
      "dtypes: datetime64[ns](1), float64(1), int64(2), object(3)\n",
      "memory usage: 30.6+ KB\n"
     ]
    }
   ],
   "source": [
    "test_set.dropna(inplace=True)\n",
    "test_set.info()"
   ]
  },
  {
   "cell_type": "code",
   "execution_count": 17,
   "metadata": {},
   "outputs": [],
   "source": [
    "def save_fig(image_dir: str, fig_id: str, tight_layout=True, fig_extension: str = \"png\", resolution: int = 300):\n",
    "    path = Path(image_dir) / Path(f\"{fig_id}.{fig_extension}\")\n",
    "    if tight_layout:\n",
    "        plt.tight_layout()\n",
    "    plt.savefig(path, format=fig_extension, dpi=resolution)"
   ]
  },
  {
   "cell_type": "code",
   "execution_count": 18,
   "metadata": {},
   "outputs": [
    {
     "data": {
      "image/png": "[encoded data removed]",
      "text/plain": [
       "<Figure size 600x600 with 1 Axes>"
      ]
     },
     "metadata": {},
     "output_type": "display_data"
    }
   ],
   "source": [
    "train_set[['human_evaluation']].hist(bins=5, figsize=(6, 6), color='red')\n",
    "save_fig(image_dir=IMAGE_DIR, fig_id='attributes_histogram_plots')\n",
    "plt.show()"
   ]
  },
  {
   "cell_type": "code",
   "execution_count": 19,
   "metadata": {},
   "outputs": [
    {
     "data": {
      "image/png": "[encoded data removed]",
      "text/plain": [
       "<Figure size 640x480 with 1 Axes>"
      ]
     },
     "metadata": {},
     "output_type": "display_data"
    }
   ],
   "source": [
    "sns.histplot(data=train_set, x='human_evaluation', color='skyblue', kde=True, bins=10)\n",
    "plt.title('Human Evaluation Histogram')\n",
    "plt.xlabel(\"Human Evaluation\")\n",
    "plt.ylabel(\"Frequency\")\n",
    "save_fig(image_dir=IMAGE_DIR, fig_id='human_evaluation_histogram')\n",
    "plt.show()"
   ]
  },
  {
   "cell_type": "markdown",
   "metadata": {},
   "source": [
    "## Preprocessing"
   ]
  },
  {
   "cell_type": "markdown",
   "metadata": {},
   "source": [
    "### Cleansing"
   ]
  },
  {
   "cell_type": "code",
   "execution_count": 20,
   "metadata": {},
   "outputs": [
    {
     "data": {
      "application/vnd.jupyter.widget-view+json": {
       "model_id": "764d4d60c7e94ecdae441867a82a5ed2",
       "version_major": 2,
       "version_minor": 0
      },
      "text/plain": [
       "  0%|          | 0/6736 [00:00<?, ?it/s]"
      ]
     },
     "metadata": {},
     "output_type": "display_data"
    },
    {
     "data": {
      "application/vnd.jupyter.widget-view+json": {
       "model_id": "504d20bbb5e540e59677173b7a16afad",
       "version_major": 2,
       "version_minor": 0
      },
      "text/plain": [
       "  0%|          | 0/489 [00:00<?, ?it/s]"
      ]
     },
     "metadata": {},
     "output_type": "display_data"
    },
    {
     "data": {
      "text/html": [
       "<div>\n",
       "<style scoped>\n",
       "    .dataframe tbody tr th:only-of-type {\n",
       "        vertical-align: middle;\n",
       "    }\n",
       "\n",
       "    .dataframe tbody tr th {\n",
       "        vertical-align: top;\n",
       "    }\n",
       "\n",
       "    .dataframe thead th {\n",
       "        text-align: right;\n",
       "    }\n",
       "</style>\n",
       "<table border=\"1\" class=\"dataframe\">\n",
       "  <thead>\n",
       "    <tr style=\"text-align: right;\">\n",
       "      <th></th>\n",
       "      <th>ID</th>\n",
       "      <th>question_id</th>\n",
       "      <th>question</th>\n",
       "      <th>Instructor answers</th>\n",
       "      <th>answer</th>\n",
       "      <th>score</th>\n",
       "      <th>human_evaluation</th>\n",
       "      <th>cleansed</th>\n",
       "    </tr>\n",
       "  </thead>\n",
       "  <tbody>\n",
       "    <tr>\n",
       "      <th>0</th>\n",
       "      <td>1316</td>\n",
       "      <td>2023-07-07</td>\n",
       "      <td>What is the main disadvantage of a doubly-link...</td>\n",
       "      <td>Extra space required to store the back pointers.</td>\n",
       "      <td>not answered</td>\n",
       "      <td>0.0</td>\n",
       "      <td>0</td>\n",
       "      <td>answer</td>\n",
       "    </tr>\n",
       "    <tr>\n",
       "      <th>1</th>\n",
       "      <td>2093</td>\n",
       "      <td>2023-08-11</td>\n",
       "      <td>What is the main difference between a string o...</td>\n",
       "      <td>The char[] will automatically add a null \\0 ch...</td>\n",
       "      <td>the variable of type char[], each character is...</td>\n",
       "      <td>2.0</td>\n",
       "      <td>2</td>\n",
       "      <td>variable type char character store different m...</td>\n",
       "    </tr>\n",
       "    <tr>\n",
       "      <th>2</th>\n",
       "      <td>1603</td>\n",
       "      <td>2023-04-09</td>\n",
       "      <td>How can you implement a queue with a list?</td>\n",
       "      <td>Keep the rear of the queue pointing to the tai...</td>\n",
       "      <td>create a node with the input data, continue to...</td>\n",
       "      <td>4.0</td>\n",
       "      <td>4</td>\n",
       "      <td>create node input datum continue add list   de...</td>\n",
       "    </tr>\n",
       "    <tr>\n",
       "      <th>3</th>\n",
       "      <td>204</td>\n",
       "      <td>2023-01-02</td>\n",
       "      <td>What is typically included in a class definition?</td>\n",
       "      <td>Data members (attributes) and member functions.</td>\n",
       "      <td>For us it is usually a set, get, and displayM...</td>\n",
       "      <td>2.0</td>\n",
       "      <td>2</td>\n",
       "      <td>usually set displaymessge message tell prope...</td>\n",
       "    </tr>\n",
       "    <tr>\n",
       "      <th>4</th>\n",
       "      <td>2439</td>\n",
       "      <td>2023-10-12</td>\n",
       "      <td>How many steps does it take to search a node i...</td>\n",
       "      <td>The height of the tree.</td>\n",
       "      <td>( n(n-1) ) / 2&lt;br&gt;&lt;br&gt;</td>\n",
       "      <td>1.5</td>\n",
       "      <td>2</td>\n",
       "      <td>n(n-1 2 &lt; br&gt;&lt;br &gt;</td>\n",
       "    </tr>\n",
       "  </tbody>\n",
       "</table>\n",
       "</div>"
      ],
      "text/plain": [
       "     ID question_id                                           question  \\\n",
       "0  1316  2023-07-07  What is the main disadvantage of a doubly-link...   \n",
       "1  2093  2023-08-11  What is the main difference between a string o...   \n",
       "2  1603  2023-04-09         How can you implement a queue with a list?   \n",
       "3   204  2023-01-02  What is typically included in a class definition?   \n",
       "4  2439  2023-10-12  How many steps does it take to search a node i...   \n",
       "\n",
       "                                  Instructor answers  \\\n",
       "0   Extra space required to store the back pointers.   \n",
       "1  The char[] will automatically add a null \\0 ch...   \n",
       "2  Keep the rear of the queue pointing to the tai...   \n",
       "3    Data members (attributes) and member functions.   \n",
       "4                            The height of the tree.   \n",
       "\n",
       "                                              answer  score  human_evaluation  \\\n",
       "0                                       not answered    0.0                 0   \n",
       "1  the variable of type char[], each character is...    2.0                 2   \n",
       "2  create a node with the input data, continue to...    4.0                 4   \n",
       "3   For us it is usually a set, get, and displayM...    2.0                 2   \n",
       "4                             ( n(n-1) ) / 2<br><br>    1.5                 2   \n",
       "\n",
       "                                            cleansed  \n",
       "0                                             answer  \n",
       "1  variable type char character store different m...  \n",
       "2  create node input datum continue add list   de...  \n",
       "3    usually set displaymessge message tell prope...  \n",
       "4                                 n(n-1 2 < br><br >  "
      ]
     },
     "metadata": {},
     "output_type": "display_data"
    },
    {
     "data": {
      "text/html": [
       "<div>\n",
       "<style scoped>\n",
       "    .dataframe tbody tr th:only-of-type {\n",
       "        vertical-align: middle;\n",
       "    }\n",
       "\n",
       "    .dataframe tbody tr th {\n",
       "        vertical-align: top;\n",
       "    }\n",
       "\n",
       "    .dataframe thead th {\n",
       "        text-align: right;\n",
       "    }\n",
       "</style>\n",
       "<table border=\"1\" class=\"dataframe\">\n",
       "  <thead>\n",
       "    <tr style=\"text-align: right;\">\n",
       "      <th></th>\n",
       "      <th>ID</th>\n",
       "      <th>question_id</th>\n",
       "      <th>question</th>\n",
       "      <th>Instructor answers</th>\n",
       "      <th>answer</th>\n",
       "      <th>score</th>\n",
       "      <th>human_evaluation</th>\n",
       "      <th>cleansed</th>\n",
       "    </tr>\n",
       "  </thead>\n",
       "  <tbody>\n",
       "    <tr>\n",
       "      <th>1322</th>\n",
       "      <td>1323</td>\n",
       "      <td>2023-01-08</td>\n",
       "      <td>What is a stack?</td>\n",
       "      <td>A data structure that can store elements, whic...</td>\n",
       "      <td>A data structure that stores data using LIFO.</td>\n",
       "      <td>5.0</td>\n",
       "      <td>5</td>\n",
       "      <td>data structure store datum lifo</td>\n",
       "    </tr>\n",
       "    <tr>\n",
       "      <th>1134</th>\n",
       "      <td>1135</td>\n",
       "      <td>2023-01-07</td>\n",
       "      <td>What is a linked list?</td>\n",
       "      <td>A collection of elements that can be allocated...</td>\n",
       "      <td>Consists of sequence of nodes, each containing...</td>\n",
       "      <td>4.5</td>\n",
       "      <td>5</td>\n",
       "      <td>consist sequence node contain number datum fie...</td>\n",
       "    </tr>\n",
       "    <tr>\n",
       "      <th>1875</th>\n",
       "      <td>1876</td>\n",
       "      <td>2023-01-11</td>\n",
       "      <td>What are the elements typically included in a ...</td>\n",
       "      <td>Function members and data members.</td>\n",
       "      <td>The return value and the accepted value.</td>\n",
       "      <td>1.5</td>\n",
       "      <td>2</td>\n",
       "      <td>return value accepted value</td>\n",
       "    </tr>\n",
       "    <tr>\n",
       "      <th>705</th>\n",
       "      <td>706</td>\n",
       "      <td>2023-03-04</td>\n",
       "      <td>How are arrays passed to functions?</td>\n",
       "      <td>by reference.</td>\n",
       "      <td>You pass the name of the array to the function...</td>\n",
       "      <td>5.0</td>\n",
       "      <td>5</td>\n",
       "      <td>pass array function.&lt;br &gt; for:&lt;br &gt; int bin 10...</td>\n",
       "    </tr>\n",
       "    <tr>\n",
       "      <th>2270</th>\n",
       "      <td>2271</td>\n",
       "      <td>2023-04-12</td>\n",
       "      <td>Briefly, how does selection sort work?</td>\n",
       "      <td>It selects the minimum from an array and place...</td>\n",
       "      <td>It starts at the first element and replaces it...</td>\n",
       "      <td>4.5</td>\n",
       "      <td>5</td>\n",
       "      <td>start element replace small element find right...</td>\n",
       "    </tr>\n",
       "  </tbody>\n",
       "</table>\n",
       "</div>"
      ],
      "text/plain": [
       "        ID question_id                                           question  \\\n",
       "1322  1323  2023-01-08                                   What is a stack?   \n",
       "1134  1135  2023-01-07                             What is a linked list?   \n",
       "1875  1876  2023-01-11  What are the elements typically included in a ...   \n",
       "705    706  2023-03-04                How are arrays passed to functions?   \n",
       "2270  2271  2023-04-12             Briefly, how does selection sort work?   \n",
       "\n",
       "                                     Instructor answers  \\\n",
       "1322  A data structure that can store elements, whic...   \n",
       "1134  A collection of elements that can be allocated...   \n",
       "1875                 Function members and data members.   \n",
       "705                                       by reference.   \n",
       "2270  It selects the minimum from an array and place...   \n",
       "\n",
       "                                                 answer  score  \\\n",
       "1322      A data structure that stores data using LIFO.    5.0   \n",
       "1134  Consists of sequence of nodes, each containing...    4.5   \n",
       "1875           The return value and the accepted value.    1.5   \n",
       "705   You pass the name of the array to the function...    5.0   \n",
       "2270  It starts at the first element and replaces it...    4.5   \n",
       "\n",
       "      human_evaluation                                           cleansed  \n",
       "1322                 5                    data structure store datum lifo  \n",
       "1134                 5  consist sequence node contain number datum fie...  \n",
       "1875                 2                        return value accepted value  \n",
       "705                  5  pass array function.<br > for:<br > int bin 10...  \n",
       "2270                 5  start element replace small element find right...  "
      ]
     },
     "metadata": {},
     "output_type": "display_data"
    }
   ],
   "source": [
    "def cleanse(text: str, nlp: spacy.Language) -> str:\n",
    "    text = text.lower()\n",
    "    doc = nlp(text)\n",
    "    cleansed_tokens = [token.lemma_ for token in doc if not token.is_stop and not token.is_punct]\n",
    "    cleansed_text = ' '.join(cleansed_tokens)\n",
    "    return cleansed_text\n",
    "\n",
    "\n",
    "tqdm_notebook.pandas()\n",
    "nlp = spacy.load('en_core_web_lg')\n",
    "\n",
    "if QUESTION_ANSWER:\n",
    "    train_set[\"input\"] = train_set.progress_apply(lambda x: x['question'] + ' ' + x['answer'], axis=1)\n",
    "    train_set[\"cleansed\"] = train_set['input'].progress_apply(lambda answer: cleanse(str(answer), nlp))\n",
    "    test_set[\"input\"] = test_set.progress_apply(lambda x: x['question'] + ' ' + x['answer'], axis=1)\n",
    "    test_set[\"cleansed\"] = test_set['input'].progress_apply(lambda answer: cleanse(str(answer), nlp))\n",
    "else:\n",
    "    train_set[\"cleansed\"] = train_set['answer'].progress_apply(lambda answer: cleanse(str(answer), nlp))\n",
    "    test_set[\"cleansed\"] = test_set['answer'].progress_apply(lambda answer: cleanse(str(answer), nlp))\n",
    "\n",
    "display(train_set.head())\n",
    "display(test_set.head())"
   ]
  },
  {
   "cell_type": "markdown",
   "metadata": {},
   "source": [
    "### TF-IDF"
   ]
  },
  {
   "cell_type": "code",
   "execution_count": 21,
   "metadata": {},
   "outputs": [],
   "source": [
    "X_train = train_set['cleansed'].to_numpy()\n",
    "X_test = test_set['cleansed'].to_numpy()\n",
    "y_train = train_set['human_evaluation'].to_numpy()\n",
    "y_test = test_set['human_evaluation'].to_numpy()"
   ]
  },
  {
   "cell_type": "markdown",
   "metadata": {},
   "source": [
    "#### SVM"
   ]
  },
  {
   "cell_type": "code",
   "execution_count": 22,
   "metadata": {},
   "outputs": [
    {
     "name": "stdout",
     "output_type": "stream",
     "text": [
      "              precision    recall  f1-score   support\n",
      "\n",
      "           0       0.25      1.00      0.40         2\n",
      "           1       0.50      0.44      0.47         9\n",
      "           2       0.15      0.24      0.18        37\n",
      "           3       0.26      0.28      0.27        64\n",
      "           4       0.36      0.35      0.35        92\n",
      "           5       0.74      0.66      0.70       285\n",
      "\n",
      "    accuracy                           0.52       489\n",
      "   macro avg       0.38      0.50      0.40       489\n",
      "weighted avg       0.55      0.52      0.53       489\n",
      "\n"
     ]
    }
   ],
   "source": [
    "tfidf_svm_pipeline = Pipeline(\n",
    "    [\n",
    "        (\n",
    "            \"tfidf\",\n",
    "            TfidfVectorizer(\n",
    "                lowercase=True,\n",
    "                stop_words=\"english\",\n",
    "                max_df=0.85,\n",
    "                min_df=2,\n",
    "                use_idf=True,\n",
    "                sublinear_tf=False,\n",
    "            ),\n",
    "        ),\n",
    "        (\n",
    "            \"svm_ovr\",\n",
    "            OneVsRestClassifier(\n",
    "                SVR(\n",
    "                    kernel=\"rbf\",\n",
    "                    gamma=0.1,\n",
    "                    coef0=0.0,\n",
    "                    C=1.0,\n",
    "                )\n",
    "            ),\n",
    "        ),\n",
    "    ]\n",
    ")\n",
    "\n",
    "\n",
    "tfidf_svm_pipeline.fit(X_train, y_train)\n",
    "tfidf_svm_ovr_y_pred = tfidf_svm_pipeline.predict(X_test)\n",
    "report = classification_report(y_test, tfidf_svm_ovr_y_pred)\n",
    "print(report)"
   ]
  },
  {
   "cell_type": "markdown",
   "metadata": {},
   "source": [
    "#### Random Forest Classification"
   ]
  },
  {
   "cell_type": "code",
   "execution_count": 23,
   "metadata": {},
   "outputs": [
    {
     "name": "stdout",
     "output_type": "stream",
     "text": [
      "              precision    recall  f1-score   support\n",
      "\n",
      "           0       0.17      1.00      0.29         2\n",
      "           1       1.00      0.44      0.62         9\n",
      "           2       0.33      0.14      0.19        37\n",
      "           3       0.43      0.16      0.23        64\n",
      "           4       0.50      0.27      0.35        92\n",
      "           5       0.69      0.93      0.79       285\n",
      "\n",
      "    accuracy                           0.63       489\n",
      "   macro avg       0.52      0.49      0.41       489\n",
      "weighted avg       0.59      0.63      0.58       489\n",
      "\n"
     ]
    }
   ],
   "source": [
    "tfidf_rf_pipeline = Pipeline(\n",
    "    [\n",
    "        (\n",
    "            \"tfidf\",\n",
    "            TfidfVectorizer(\n",
    "                lowercase=True,\n",
    "                stop_words=\"english\",\n",
    "                max_df=0.85,\n",
    "                min_df=2,\n",
    "                use_idf=True,\n",
    "                sublinear_tf=False,\n",
    "            ),\n",
    "        ),\n",
    "        (\"rfc\", RandomForestClassifier(n_estimators=400, random_state=SEED)),\n",
    "    ]\n",
    ")\n",
    "\n",
    "tfidf_rf_pipeline.fit(X_train, y_train)\n",
    "tfidf_rf_y_pred = tfidf_rf_pipeline.predict(X_test)\n",
    "report = classification_report(y_test, tfidf_rf_y_pred)\n",
    "print(report)"
   ]
  },
  {
   "cell_type": "markdown",
   "metadata": {},
   "source": [
    "#### Decision Tree Classification"
   ]
  },
  {
   "cell_type": "code",
   "execution_count": 24,
   "metadata": {},
   "outputs": [
    {
     "name": "stdout",
     "output_type": "stream",
     "text": [
      "              precision    recall  f1-score   support\n",
      "\n",
      "           0       0.12      1.00      0.22         2\n",
      "           1       0.50      0.44      0.47         9\n",
      "           2       0.26      0.32      0.29        37\n",
      "           3       0.22      0.16      0.18        64\n",
      "           4       0.28      0.29      0.28        92\n",
      "           5       0.71      0.68      0.69       285\n",
      "\n",
      "    accuracy                           0.51       489\n",
      "   macro avg       0.35      0.48      0.36       489\n",
      "weighted avg       0.52      0.51      0.51       489\n",
      "\n"
     ]
    }
   ],
   "source": [
    "tfidf_tree_pipeline = Pipeline(\n",
    "    [\n",
    "        (\n",
    "            \"tfidf\",\n",
    "            TfidfVectorizer(\n",
    "                lowercase=True,\n",
    "                stop_words=\"english\",\n",
    "                max_df=0.85,\n",
    "                min_df=2,\n",
    "                use_idf=True,\n",
    "                sublinear_tf=False,\n",
    "            ),\n",
    "        ),\n",
    "        (\"dtc\", DecisionTreeClassifier(random_state=SEED)),\n",
    "    ]\n",
    ")\n",
    "\n",
    "tfidf_tree_pipeline.fit(X_train, y_train)\n",
    "tfidf_tree_y_pred = tfidf_tree_pipeline.predict(X_test)\n",
    "report = classification_report(y_test, tfidf_tree_y_pred)\n",
    "print(report)"
   ]
  },
  {
   "cell_type": "markdown",
   "metadata": {},
   "source": [
    "#### XGB"
   ]
  },
  {
   "cell_type": "code",
   "execution_count": 25,
   "metadata": {},
   "outputs": [
    {
     "name": "stdout",
     "output_type": "stream",
     "text": [
      "              precision    recall  f1-score   support\n",
      "\n",
      "           0       0.11      1.00      0.20         2\n",
      "           1       0.80      0.44      0.57         9\n",
      "           2       0.24      0.11      0.15        37\n",
      "           3       0.33      0.39      0.36        64\n",
      "           4       0.40      0.39      0.39        92\n",
      "           5       0.74      0.73      0.74       285\n",
      "\n",
      "    accuracy                           0.57       489\n",
      "   macro avg       0.44      0.51      0.40       489\n",
      "weighted avg       0.58      0.57      0.57       489\n",
      "\n"
     ]
    }
   ],
   "source": [
    "tfidf_xgb_pipeline = Pipeline(\n",
    "    [\n",
    "        (\n",
    "            \"tfidf\",\n",
    "            TfidfVectorizer(\n",
    "                lowercase=True,\n",
    "                stop_words=\"english\",\n",
    "                max_df=0.85,\n",
    "                min_df=2,\n",
    "                use_idf=True,\n",
    "                sublinear_tf=False,\n",
    "            ),\n",
    "        ),\n",
    "        (\"xgboost\", XGBClassifier(random_state=SEED)),\n",
    "    ]\n",
    ")\n",
    "\n",
    "tfidf_xgb_pipeline.fit(X_train, y_train)\n",
    "tfidf_xgb_y_pred = tfidf_xgb_pipeline.predict(X_test)\n",
    "report = classification_report(y_test, tfidf_xgb_y_pred)\n",
    "print(report)"
   ]
  },
  {
   "cell_type": "markdown",
   "metadata": {},
   "source": [
    "### Comparative Analysis"
   ]
  },
  {
   "cell_type": "code",
   "execution_count": 26,
   "metadata": {},
   "outputs": [
    {
     "data": {
      "image/png": "[encoded data removed]",
      "text/plain": [
       "<Figure size 1200x800 with 1 Axes>"
      ]
     },
     "metadata": {},
     "output_type": "display_data"
    }
   ],
   "source": [
    "sns.set_theme(style=\"darkgrid\", palette=\"pastel\")\n",
    "plt.figure(figsize=(12, 8))\n",
    "sns.kdeplot(data=test_set['human_evaluation'], label='Human')\n",
    "sns.kdeplot(data=tfidf_rf_y_pred, label='RFC')\n",
    "sns.kdeplot(data=tfidf_svm_ovr_y_pred, label='SVC OvR')\n",
    "sns.kdeplot(data=tfidf_xgb_y_pred, label='XGC')\n",
    "sns.kdeplot(data=tfidf_tree_y_pred, label='DTC')\n",
    "plt.title('Comparative Analysis')\n",
    "plt.xlabel(\"Evaluations\")\n",
    "plt.ylabel(\"Frequency\")\n",
    "plt.legend()\n",
    "save_fig(image_dir=IMAGE_DIR, fig_id='comparative_analysis')\n",
    "plt.show()"
   ]
  },
  {
   "cell_type": "code",
   "execution_count": 27,
   "metadata": {},
   "outputs": [],
   "source": [
    "tfidf_svm_ovr_kappa = cohen_kappa_score(y_test, tfidf_svm_ovr_y_pred)\n",
    "tfidf_rf_kappa = cohen_kappa_score(y_test, tfidf_rf_y_pred)\n",
    "tfidf_tree_kappa = cohen_kappa_score(y_test, tfidf_tree_y_pred)\n",
    "tfidf_xgb_kappa = cohen_kappa_score(y_test, tfidf_xgb_y_pred)"
   ]
  },
  {
   "cell_type": "code",
   "execution_count": 28,
   "metadata": {},
   "outputs": [
    {
     "data": {
      "text/html": [
       "<div>\n",
       "<style scoped>\n",
       "    .dataframe tbody tr th:only-of-type {\n",
       "        vertical-align: middle;\n",
       "    }\n",
       "\n",
       "    .dataframe tbody tr th {\n",
       "        vertical-align: top;\n",
       "    }\n",
       "\n",
       "    .dataframe thead th {\n",
       "        text-align: right;\n",
       "    }\n",
       "</style>\n",
       "<table border=\"1\" class=\"dataframe\">\n",
       "  <thead>\n",
       "    <tr style=\"text-align: right;\">\n",
       "      <th></th>\n",
       "      <th>Metric</th>\n",
       "      <th>Score</th>\n",
       "    </tr>\n",
       "  </thead>\n",
       "  <tbody>\n",
       "    <tr>\n",
       "      <th>0</th>\n",
       "      <td>tfidf_svm_ovr_kappa</td>\n",
       "      <td>0.238528</td>\n",
       "    </tr>\n",
       "    <tr>\n",
       "      <th>1</th>\n",
       "      <td>tfidf_rf_kappa</td>\n",
       "      <td>0.286678</td>\n",
       "    </tr>\n",
       "    <tr>\n",
       "      <th>2</th>\n",
       "      <td>tfidf_tree_kappa</td>\n",
       "      <td>0.201524</td>\n",
       "    </tr>\n",
       "    <tr>\n",
       "      <th>3</th>\n",
       "      <td>tfidf_xgb_kappa</td>\n",
       "      <td>0.293138</td>\n",
       "    </tr>\n",
       "  </tbody>\n",
       "</table>\n",
       "</div>"
      ],
      "text/plain": [
       "                Metric     Score\n",
       "0  tfidf_svm_ovr_kappa  0.238528\n",
       "1       tfidf_rf_kappa  0.286678\n",
       "2     tfidf_tree_kappa  0.201524\n",
       "3      tfidf_xgb_kappa  0.293138"
      ]
     },
     "execution_count": 28,
     "metadata": {},
     "output_type": "execute_result"
    }
   ],
   "source": [
    "kappas = {\n",
    "    \"tfidf_svm_ovr_kappa\": tfidf_svm_ovr_kappa,\n",
    "    \"tfidf_rf_kappa\": tfidf_rf_kappa,\n",
    "    \"tfidf_tree_kappa\": tfidf_tree_kappa,\n",
    "    \"tfidf_xgb_kappa\": tfidf_xgb_kappa\n",
    "}\n",
    "\n",
    "kappas_df = pd.DataFrame(data=[kappas]).T.reset_index()\n",
    "kappas_df.columns = [\"Metric\", \"Score\"]\n",
    "kappas_df"
   ]
  },
  {
   "cell_type": "code",
   "execution_count": null,
   "metadata": {},
   "outputs": [],
   "source": []
  },
  {
   "cell_type": "code",
   "execution_count": null,
   "metadata": {},
   "outputs": [],
   "source": []
  }
 ],
 "metadata": {
  "kernelspec": {
   "display_name": "Python 3",
   "language": "python",
   "name": "python3"
  },
  "language_info": {
   "codemirror_mode": {
    "name": "ipython",
    "version": 3
   },
   "file_extension": ".py",
   "mimetype": "text/x-python",
   "name": "python",
   "nbconvert_exporter": "python",
   "pygments_lexer": "ipython3",
   "version": "3.10.13"
  }
 },
 "nbformat": 4,
 "nbformat_minor": 2
}
